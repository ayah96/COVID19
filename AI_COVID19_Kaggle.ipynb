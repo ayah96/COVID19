{
  "nbformat": 4,
  "nbformat_minor": 0,
  "metadata": {
    "colab": {
      "name": "AI_COVID19_Kaggle.ipynb",
      "provenance": [],
      "collapsed_sections": [],
      "toc_visible": true,
      "machine_shape": "hm"
    },
    "kernelspec": {
      "name": "python3",
      "display_name": "Python 3"
    },
    "accelerator": "TPU"
  },
  "cells": [
    {
      "cell_type": "markdown",
      "source": [
        "#Setup environment"
      ],
      "metadata": {
        "id": "1zVqFhb4XE3e"
      }
    },
    {
      "cell_type": "code",
      "metadata": {
        "id": "aIum6-HMMEit",
        "outputId": "6db2fb14-075c-4897-945e-fb65b29628a8",
        "colab": {
          "base_uri": "https://localhost:8080/",
          "height": 71
        }
      },
      "source": [
        "#ayah alkhader\n",
        "import numpy as np # linear algebra\n",
        "import pandas as pd # data processing, CSV file I/O (e.g. pd.read_csv)\n",
        "import seaborn as sns\n",
        "import matplotlib.pyplot as plt\n",
        "from sklearn import feature_extraction, linear_model, model_selection, preprocessing\n",
        "import plotly.graph_objs as go\n",
        "import plotly.offline as py\n",
        "import plotly.express as px"
      ],
      "execution_count": null,
      "outputs": [
        {
          "output_type": "stream",
          "text": [
            "/usr/local/lib/python3.6/dist-packages/statsmodels/tools/_testing.py:19: FutureWarning: pandas.util.testing is deprecated. Use the functions in the public API at pandas.testing instead.\n",
            "  import pandas.util.testing as tm\n"
          ],
          "name": "stderr"
        }
      ]
    },
    {
      "cell_type": "code",
      "metadata": {
        "id": "WSfgFNLRkXyZ",
        "outputId": "17bded35-cd78-4e40-d9ee-076354a70a49",
        "colab": {
          "base_uri": "https://localhost:8080/",
          "height": 54
        }
      },
      "source": [
        "from google.colab import drive\n",
        "drive.mount('/content/drive')"
      ],
      "execution_count": null,
      "outputs": [
        {
          "output_type": "stream",
          "text": [
            "Drive already mounted at /content/drive; to attempt to forcibly remount, call drive.mount(\"/content/drive\", force_remount=True).\n"
          ],
          "name": "stdout"
        }
      ]
    },
    {
      "cell_type": "code",
      "metadata": {
        "id": "6Uj84HTCFHuk"
      },
      "source": [
        "tweets_df1= pd.read_csv('drive/My Drive/AI_COVID19/tweets_with_country_Code.csv')\n",
        "cases_df2= pd.read_csv('drive/My Drive/AI_COVID19/cases_with_date.csv')"
      ],
      "execution_count": null,
      "outputs": []
    },
    {
      "cell_type": "markdown",
      "metadata": {
        "id": "wahFjFwWk7ya"
      },
      "source": [
        "# **Tweets files**"
      ]
    },
    {
      "cell_type": "code",
      "metadata": {
        "id": "YMp1Hffht8ld"
      },
      "source": [
        "#April tweets\n",
        "tweets_df41 = pd.read_csv('drive/My Drive/AI_COVID19/dataset/April/2020-03-30 Coronavirus Tweets.CSV')\n",
        "tweets_df42 = pd.read_csv('drive/My Drive/AI_COVID19/dataset/April/2020-04-06 Coronavirus Tweets.CSV')\n",
        "tweets_df43 = pd.read_csv('drive/My Drive/AI_COVID19/dataset/April/2020-04-14 Coronavirus Tweets.CSV')\n",
        "tweets_df44 = pd.read_csv('drive/My Drive/AI_COVID19/dataset/April/2020-04-15 Coronavirus Tweets.CSV')\n",
        "tweets_df45 = pd.read_csv('drive/My Drive/AI_COVID19/dataset/April/2020-04-07 Coronavirus Tweets.CSV')\n",
        "tweets_df46 = pd.read_csv('drive/My Drive/AI_COVID19/dataset/April/2020-04-13 Coronavirus Tweets.CSV')\n",
        "tweets_df47 = pd.read_csv('drive/My Drive/AI_COVID19/dataset/April/2020-04-01 Coronavirus Tweets.CSV')\n",
        "tweets_df49 = pd.read_csv('drive/My Drive/AI_COVID19/dataset/April/2020-03-31 Coronavirus Tweets.CSV')\n",
        "tweets_df48 = pd.read_csv('drive/My Drive/AI_COVID19/dataset/April/2020-03-29 Coronavirus Tweets.CSV')\n",
        "tweets_df410 = pd.read_csv('drive/My Drive/AI_COVID19/dataset/April/2020-04-11 Coronavirus Tweets.CSV')\n",
        "tweets_df411 = pd.read_csv('drive/My Drive/AI_COVID19/dataset/April/2020-04-08 Coronavirus Tweets.CSV')\n",
        "tweets_df412 = pd.read_csv('drive/My Drive/AI_COVID19/dataset/April/2020-04-10 Coronavirus Tweets.CSV')\n",
        "tweets_df413 = pd.read_csv('drive/My Drive/AI_COVID19/dataset/April/2020-04-09 Coronavirus Tweets.CSV')\n",
        "tweets_df414 = pd.read_csv('drive/My Drive/AI_COVID19/dataset/April/2020-04-05 Coronavirus Tweets.CSV')\n",
        "tweets_df415 = pd.read_csv('drive/My Drive/AI_COVID19/dataset/April/2020-04-12 Coronavirus Tweets.CSV')\n",
        "tweets_df416 = pd.read_csv('drive/My Drive/AI_COVID19/dataset/April/2020-04-02 Coronavirus Tweets.CSV')\n",
        "tweets_df417 = pd.read_csv('drive/My Drive/AI_COVID19/dataset/April/2020-04-04 Coronavirus Tweets.CSV')\n",
        "tweets_df418 = pd.read_csv('drive/My Drive/AI_COVID19/dataset/April/2020-04-03 Coronavirus Tweets.CSV')\n"
      ],
      "execution_count": null,
      "outputs": []
    },
    {
      "cell_type": "code",
      "metadata": {
        "id": "p4_aTx8yuAmY"
      },
      "source": [
        "#March\n",
        "tweets_df31 = pd.read_csv('drive/My Drive/AI_COVID19/dataset/March/2020-03-21 Coronavirus Tweets.CSV')\n",
        "tweets_df32 = pd.read_csv('drive/My Drive/AI_COVID19/dataset/March/2020-03-17 Coronavirus Tweets.CSV')\n",
        "tweets_df33 = pd.read_csv('drive/My Drive/AI_COVID19/dataset/March/2020-03-15 Coronavirus Tweets.CSV')\n",
        "tweets_df34 = pd.read_csv('drive/My Drive/AI_COVID19/dataset/March/2020-03-13 Coronavirus Tweets.CSV')\n",
        "tweets_df35 = pd.read_csv('drive/My Drive/AI_COVID19/dataset/March/2020-03-16 Coronavirus Tweets.CSV')\n",
        "tweets_df36 = pd.read_csv('drive/My Drive/AI_COVID19/dataset/March/2020-03-12 Coronavirus Tweets.CSV')\n",
        "tweets_df37 = pd.read_csv('drive/My Drive/AI_COVID19/dataset/March/2020-03-18 Coronavirus Tweets.CSV')\n",
        "tweets_df38 = pd.read_csv('drive/My Drive/AI_COVID19/dataset/March/2020-03-25 Coronavirus Tweets.CSV')\n",
        "tweets_df39 = pd.read_csv('drive/My Drive/AI_COVID19/dataset/March/2020-03-28 Coronavirus Tweets.CSV')\n",
        "tweets_df310 = pd.read_csv('drive/My Drive/AI_COVID19/dataset/March/2020-03-23 Coronavirus Tweets.CSV')\n",
        "tweets_df311 = pd.read_csv('drive/My Drive/AI_COVID19/dataset/March/2020-03-26 Coronavirus Tweets.CSV')\n",
        "tweets_df312 = pd.read_csv('drive/My Drive/AI_COVID19/dataset/March/2020-03-14 Coronavirus Tweets.CSV')\n",
        "tweets_df313 = pd.read_csv('drive/My Drive/AI_COVID19/dataset/March/2020-03-22 Coronavirus Tweets.CSV')\n",
        "tweets_df314 = pd.read_csv('drive/My Drive/AI_COVID19/dataset/March/2020-03-20 Coronavirus Tweets.CSV')\n",
        "tweets_df315 = pd.read_csv('drive/My Drive/AI_COVID19/dataset/March/2020-03-19 Coronavirus Tweets.CSV')\n",
        "tweets_df316 = pd.read_csv('drive/My Drive/AI_COVID19/dataset/March/2020-03-27 Coronavirus Tweets.CSV')\n",
        "tweets_df317 = pd.read_csv('drive/My Drive/AI_COVID19/dataset/March/2020-03-00 Coronavirus Tweets (pre 2020-03-12).CSV')\n",
        "tweets_df318 = pd.read_csv('drive/My Drive/AI_COVID19/dataset/March/2020-03-24 Coronavirus Tweets.CSV')"
      ],
      "execution_count": null,
      "outputs": []
    },
    {
      "cell_type": "markdown",
      "metadata": {
        "id": "AXPJUVevjJIb"
      },
      "source": [
        "Removing duplicates tweets and saving the tweets in a new file"
      ]
    },
    {
      "cell_type": "code",
      "metadata": {
        "id": "eCuOvZqsfTxz"
      },
      "source": [
        "def drop (df):\n",
        "  df.drop( df[ df['lang'] != 'en' ].index , inplace=True)\n",
        "  df.drop_duplicates(subset =\"text\", \n",
        "                     keep = False, inplace = True)\n",
        "  return df\n"
      ],
      "execution_count": null,
      "outputs": []
    },
    {
      "cell_type": "code",
      "metadata": {
        "id": "eIQNXrRkf5ej",
        "outputId": "ccbb983a-db96-4181-98c0-bfc63010e17c",
        "colab": {
          "base_uri": "https://localhost:8080/",
          "height": 35
        }
      },
      "source": [
        "tweets_df41.shape"
      ],
      "execution_count": null,
      "outputs": [
        {
          "output_type": "execute_result",
          "data": {
            "text/plain": [
              "(586262, 22)"
            ]
          },
          "metadata": {
            "tags": []
          },
          "execution_count": 9
        }
      ]
    },
    {
      "cell_type": "code",
      "metadata": {
        "id": "S5kBpBtmfuuE"
      },
      "source": [
        "tweets_df41 = drop(tweets_df41)\n",
        "tweets_df42 = drop(tweets_df42)\n",
        "tweets_df43 = drop(tweets_df43)\n",
        "tweets_df44 = drop(tweets_df44)\n",
        "tweets_df45 = drop(tweets_df45)\n",
        "tweets_df46 = drop(tweets_df46)\n",
        "tweets_df47 = drop(tweets_df47)\n",
        "tweets_df48 = drop(tweets_df48)\n",
        "tweets_df49 = drop(tweets_df49)\n",
        "tweets_df410 = drop(tweets_df410)\n",
        "tweets_df411 = drop(tweets_df411)\n",
        "tweets_df412 = drop(tweets_df412)\n",
        "tweets_df413 = drop(tweets_df413)\n",
        "tweets_df414 = drop(tweets_df414)\n",
        "tweets_df415 = drop(tweets_df415)\n",
        "tweets_df416 = drop(tweets_df416)\n",
        "tweets_df417 = drop(tweets_df417)\n",
        "tweets_df418 = drop(tweets_df418)"
      ],
      "execution_count": null,
      "outputs": []
    },
    {
      "cell_type": "code",
      "metadata": {
        "id": "dA0z_JtxhN68"
      },
      "source": [
        "tweets_df31 = drop(tweets_df31)\n",
        "tweets_df32 = drop(tweets_df32)\n",
        "tweets_df33 = drop(tweets_df33)\n",
        "tweets_df34 = drop(tweets_df34)\n",
        "tweets_df35 = drop(tweets_df35)\n",
        "tweets_df36 = drop(tweets_df36)\n",
        "tweets_df37 = drop(tweets_df37)\n",
        "tweets_df38 = drop(tweets_df38)\n",
        "tweets_df39 = drop(tweets_df39)\n",
        "tweets_df310 = drop(tweets_df310)\n",
        "tweets_df311 = drop(tweets_df311)\n",
        "tweets_df312 = drop(tweets_df312)\n",
        "tweets_df313 = drop(tweets_df313)\n",
        "tweets_df314 = drop(tweets_df314)\n",
        "tweets_df315 = drop(tweets_df315)\n",
        "tweets_df316 = drop(tweets_df316)\n",
        "tweets_df317 = drop(tweets_df317)\n",
        "tweets_df318 = drop(tweets_df318)"
      ],
      "execution_count": null,
      "outputs": []
    },
    {
      "cell_type": "code",
      "metadata": {
        "id": "wfenOj2-h5bB"
      },
      "source": [
        "#Merge dataset\n",
        "train_df = pd.concat([tweets_df31, tweets_df32, tweets_df33, tweets_df34, tweets_df35, tweets_df36, tweets_df37, tweets_df38, tweets_df39,tweets_df310,tweets_df311,tweets_df312,tweets_df313,tweets_df314,tweets_df315,tweets_df316,tweets_df317,tweets_df318,tweets_df41, tweets_df42, tweets_df43, tweets_df44, tweets_df45, tweets_df46, tweets_df47, tweets_df48, tweets_df49,tweets_df410,tweets_df411,tweets_df412,tweets_df413,tweets_df414,tweets_df415,tweets_df416,tweets_df417,tweets_df418])"
      ],
      "execution_count": null,
      "outputs": []
    },
    {
      "cell_type": "code",
      "metadata": {
        "id": "ZhxtHgarh7f6",
        "outputId": "12742aea-fa28-44d3-8caf-997ead875658",
        "colab": {
          "base_uri": "https://localhost:8080/",
          "height": 35
        }
      },
      "source": [
        "train_df.shape"
      ],
      "execution_count": null,
      "outputs": [
        {
          "output_type": "execute_result",
          "data": {
            "text/plain": [
              "(11055183, 22)"
            ]
          },
          "metadata": {
            "tags": []
          },
          "execution_count": 22
        }
      ]
    },
    {
      "cell_type": "code",
      "metadata": {
        "id": "JeHdLbBYh7UG",
        "outputId": "ec5b8c52-9466-4f00-cf8b-76648e78a124",
        "colab": {
          "base_uri": "https://localhost:8080/",
          "height": 546
        }
      },
      "source": [
        "train_df.head()"
      ],
      "execution_count": null,
      "outputs": [
        {
          "output_type": "execute_result",
          "data": {
            "text/html": [
              "<div>\n",
              "<style scoped>\n",
              "    .dataframe tbody tr th:only-of-type {\n",
              "        vertical-align: middle;\n",
              "    }\n",
              "\n",
              "    .dataframe tbody tr th {\n",
              "        vertical-align: top;\n",
              "    }\n",
              "\n",
              "    .dataframe thead th {\n",
              "        text-align: right;\n",
              "    }\n",
              "</style>\n",
              "<table border=\"1\" class=\"dataframe\">\n",
              "  <thead>\n",
              "    <tr style=\"text-align: right;\">\n",
              "      <th></th>\n",
              "      <th>status_id</th>\n",
              "      <th>user_id</th>\n",
              "      <th>created_at</th>\n",
              "      <th>screen_name</th>\n",
              "      <th>text</th>\n",
              "      <th>source</th>\n",
              "      <th>reply_to_status_id</th>\n",
              "      <th>reply_to_user_id</th>\n",
              "      <th>reply_to_screen_name</th>\n",
              "      <th>is_quote</th>\n",
              "      <th>is_retweet</th>\n",
              "      <th>favourites_count</th>\n",
              "      <th>retweet_count</th>\n",
              "      <th>country_code</th>\n",
              "      <th>place_full_name</th>\n",
              "      <th>place_type</th>\n",
              "      <th>followers_count</th>\n",
              "      <th>friends_count</th>\n",
              "      <th>account_lang</th>\n",
              "      <th>account_created_at</th>\n",
              "      <th>verified</th>\n",
              "      <th>lang</th>\n",
              "    </tr>\n",
              "  </thead>\n",
              "  <tbody>\n",
              "    <tr>\n",
              "      <th>5</th>\n",
              "      <td>1241152542899232768</td>\n",
              "      <td>44728980</td>\n",
              "      <td>2020-03-21T00:00:00Z</td>\n",
              "      <td>ANCALERTS</td>\n",
              "      <td>WATCH: PBA legend Jayjay Helterbrand thanks #C...</td>\n",
              "      <td>TweetDeck</td>\n",
              "      <td>NaN</td>\n",
              "      <td>NaN</td>\n",
              "      <td>NaN</td>\n",
              "      <td>False</td>\n",
              "      <td>False</td>\n",
              "      <td>5453</td>\n",
              "      <td>0</td>\n",
              "      <td>NaN</td>\n",
              "      <td>NaN</td>\n",
              "      <td>NaN</td>\n",
              "      <td>4855669</td>\n",
              "      <td>777</td>\n",
              "      <td>NaN</td>\n",
              "      <td>2009-06-04T21:26:24Z</td>\n",
              "      <td>True</td>\n",
              "      <td>en</td>\n",
              "    </tr>\n",
              "    <tr>\n",
              "      <th>21</th>\n",
              "      <td>1241152542777782272</td>\n",
              "      <td>192547775</td>\n",
              "      <td>2020-03-21T00:00:00Z</td>\n",
              "      <td>PressTV</td>\n",
              "      <td>#China rejects US accusation of acting inadequ...</td>\n",
              "      <td>TweetDeck</td>\n",
              "      <td>NaN</td>\n",
              "      <td>NaN</td>\n",
              "      <td>NaN</td>\n",
              "      <td>False</td>\n",
              "      <td>False</td>\n",
              "      <td>3133</td>\n",
              "      <td>15</td>\n",
              "      <td>NaN</td>\n",
              "      <td>NaN</td>\n",
              "      <td>NaN</td>\n",
              "      <td>230579</td>\n",
              "      <td>62</td>\n",
              "      <td>NaN</td>\n",
              "      <td>2010-09-19T13:30:33Z</td>\n",
              "      <td>True</td>\n",
              "      <td>en</td>\n",
              "    </tr>\n",
              "    <tr>\n",
              "      <th>22</th>\n",
              "      <td>1241152542962323457</td>\n",
              "      <td>227778014</td>\n",
              "      <td>2020-03-21T00:00:00Z</td>\n",
              "      <td>BioCentury</td>\n",
              "      <td>Despite the continued tumble of the broader ma...</td>\n",
              "      <td>Buffer</td>\n",
              "      <td>NaN</td>\n",
              "      <td>NaN</td>\n",
              "      <td>NaN</td>\n",
              "      <td>False</td>\n",
              "      <td>False</td>\n",
              "      <td>1489</td>\n",
              "      <td>0</td>\n",
              "      <td>NaN</td>\n",
              "      <td>NaN</td>\n",
              "      <td>NaN</td>\n",
              "      <td>10051</td>\n",
              "      <td>880</td>\n",
              "      <td>NaN</td>\n",
              "      <td>2010-12-17T19:51:49Z</td>\n",
              "      <td>False</td>\n",
              "      <td>en</td>\n",
              "    </tr>\n",
              "    <tr>\n",
              "      <th>26</th>\n",
              "      <td>1241152544094580737</td>\n",
              "      <td>15850297</td>\n",
              "      <td>2020-03-21T00:00:00Z</td>\n",
              "      <td>fox7austin</td>\n",
              "      <td>.@GovAbbott has announced that he is temporari...</td>\n",
              "      <td>TweetDeck</td>\n",
              "      <td>NaN</td>\n",
              "      <td>NaN</td>\n",
              "      <td>NaN</td>\n",
              "      <td>False</td>\n",
              "      <td>False</td>\n",
              "      <td>12498</td>\n",
              "      <td>2</td>\n",
              "      <td>NaN</td>\n",
              "      <td>NaN</td>\n",
              "      <td>NaN</td>\n",
              "      <td>128696</td>\n",
              "      <td>706</td>\n",
              "      <td>NaN</td>\n",
              "      <td>2008-08-14T13:47:58Z</td>\n",
              "      <td>True</td>\n",
              "      <td>en</td>\n",
              "    </tr>\n",
              "    <tr>\n",
              "      <th>29</th>\n",
              "      <td>1241152545214672896</td>\n",
              "      <td>15163518</td>\n",
              "      <td>2020-03-21T00:00:00Z</td>\n",
              "      <td>SOLIDWORKS</td>\n",
              "      <td>With ventilators in dangerously short supply d...</td>\n",
              "      <td>Sprinklr</td>\n",
              "      <td>NaN</td>\n",
              "      <td>NaN</td>\n",
              "      <td>NaN</td>\n",
              "      <td>False</td>\n",
              "      <td>False</td>\n",
              "      <td>3678</td>\n",
              "      <td>12</td>\n",
              "      <td>NaN</td>\n",
              "      <td>NaN</td>\n",
              "      <td>NaN</td>\n",
              "      <td>187656</td>\n",
              "      <td>379</td>\n",
              "      <td>NaN</td>\n",
              "      <td>2008-06-18T22:57:32Z</td>\n",
              "      <td>False</td>\n",
              "      <td>en</td>\n",
              "    </tr>\n",
              "  </tbody>\n",
              "</table>\n",
              "</div>"
            ],
            "text/plain": [
              "              status_id    user_id  ... verified lang\n",
              "5   1241152542899232768   44728980  ...     True   en\n",
              "21  1241152542777782272  192547775  ...     True   en\n",
              "22  1241152542962323457  227778014  ...    False   en\n",
              "26  1241152544094580737   15850297  ...     True   en\n",
              "29  1241152545214672896   15163518  ...    False   en\n",
              "\n",
              "[5 rows x 22 columns]"
            ]
          },
          "metadata": {
            "tags": []
          },
          "execution_count": 24
        }
      ]
    },
    {
      "cell_type": "code",
      "metadata": {
        "id": "eoSQ3hu_S642"
      },
      "source": [
        "del tweets_df41, tweets_df42, tweets_df43, tweets_df44, tweets_df45, tweets_df46, tweets_df47, tweets_df48, tweets_df49,tweets_df410,tweets_df411,tweets_df412,tweets_df413,tweets_df414,tweets_df415,tweets_df416,tweets_df417,tweets_df418"
      ],
      "execution_count": null,
      "outputs": []
    },
    {
      "cell_type": "code",
      "metadata": {
        "id": "Pn0DzMuFTQWF"
      },
      "source": [
        "del tweets_df31, tweets_df32, tweets_df33, tweets_df34, tweets_df35, tweets_df36, tweets_df37, tweets_df38, tweets_df39,tweets_df310,tweets_df311,tweets_df312,tweets_df313,tweets_df314,tweets_df315,tweets_df316,tweets_df317,tweets_df318"
      ],
      "execution_count": null,
      "outputs": []
    },
    {
      "cell_type": "code",
      "metadata": {
        "id": "9iqp6_lrjxXe",
        "outputId": "eb9002f6-3f32-48e0-a612-aee5dc41ca35",
        "colab": {
          "base_uri": "https://localhost:8080/",
          "height": 35
        }
      },
      "source": [
        "train_df.shape"
      ],
      "execution_count": null,
      "outputs": [
        {
          "output_type": "execute_result",
          "data": {
            "text/plain": [
              "(11055183, 22)"
            ]
          },
          "metadata": {
            "tags": []
          },
          "execution_count": 25
        }
      ]
    },
    {
      "cell_type": "code",
      "metadata": {
        "id": "ZE8cqMSli4G6"
      },
      "source": [
        "train_df.drop_duplicates(subset =\"text\", \n",
        "                     keep = False, inplace = True)"
      ],
      "execution_count": null,
      "outputs": []
    },
    {
      "cell_type": "code",
      "metadata": {
        "id": "MWFH5H0Qj_oR",
        "outputId": "50978a55-b5af-4627-d3db-1468e24c5acf",
        "colab": {
          "base_uri": "https://localhost:8080/",
          "height": 35
        }
      },
      "source": [
        "train_df.shape"
      ],
      "execution_count": null,
      "outputs": [
        {
          "output_type": "execute_result",
          "data": {
            "text/plain": [
              "(10988012, 22)"
            ]
          },
          "metadata": {
            "tags": []
          },
          "execution_count": 28
        }
      ]
    },
    {
      "cell_type": "code",
      "metadata": {
        "id": "nsvfiMkWwz-g"
      },
      "source": [
        "train_df.to_csv('drive/My Drive/AI_COVID19/tweets_dataset.csv', index = False)"
      ],
      "execution_count": null,
      "outputs": []
    },
    {
      "cell_type": "markdown",
      "metadata": {
        "id": "SliyAdu1L-BP"
      },
      "source": [
        "#Tweets with Confiremed Cases"
      ]
    },
    {
      "cell_type": "code",
      "metadata": {
        "id": "h5nUc3fbK74h",
        "outputId": "60830239-58cf-4391-a95a-83e0a8f555aa",
        "colab": {
          "base_uri": "https://localhost:8080/",
          "height": 105
        }
      },
      "source": [
        "cases = pd.read_csv('drive/My Drive/AI_COVID19/Infected-confirmed.csv')\n",
        "train_df = pd.read_csv('drive/My Drive/AI_COVID19/tweets_dataset.csv')"
      ],
      "execution_count": null,
      "outputs": [
        {
          "output_type": "stream",
          "text": [
            "/usr/local/lib/python3.6/dist-packages/IPython/core/interactiveshell.py:2718: DtypeWarning:\n",
            "\n",
            "Columns (0,1,2,3,4,5,6,8,9,10,11,13,14,15,16,17,19,20,21) have mixed types.Specify dtype option on import or set low_memory=False.\n",
            "\n"
          ],
          "name": "stderr"
        }
      ]
    },
    {
      "cell_type": "code",
      "metadata": {
        "id": "TVq_p7sVSQsy",
        "outputId": "fc5f819c-40df-45ce-e407-5962ad33e616",
        "colab": {
          "base_uri": "https://localhost:8080/",
          "height": 198
        }
      },
      "source": [
        "cases.head()"
      ],
      "execution_count": null,
      "outputs": [
        {
          "output_type": "execute_result",
          "data": {
            "text/html": [
              "<div>\n",
              "<style scoped>\n",
              "    .dataframe tbody tr th:only-of-type {\n",
              "        vertical-align: middle;\n",
              "    }\n",
              "\n",
              "    .dataframe tbody tr th {\n",
              "        vertical-align: top;\n",
              "    }\n",
              "\n",
              "    .dataframe thead th {\n",
              "        text-align: right;\n",
              "    }\n",
              "</style>\n",
              "<table border=\"1\" class=\"dataframe\">\n",
              "  <thead>\n",
              "    <tr style=\"text-align: right;\">\n",
              "      <th></th>\n",
              "      <th>Unnamed: 0</th>\n",
              "      <th>Id</th>\n",
              "      <th>Province_State</th>\n",
              "      <th>Country_Region</th>\n",
              "      <th>Date</th>\n",
              "      <th>ConfirmedCases</th>\n",
              "      <th>Fatalities</th>\n",
              "    </tr>\n",
              "  </thead>\n",
              "  <tbody>\n",
              "    <tr>\n",
              "      <th>0</th>\n",
              "      <td>39</td>\n",
              "      <td>40</td>\n",
              "      <td>NaN</td>\n",
              "      <td>Afghanistan</td>\n",
              "      <td>2020-03-01 00:00:00+00:00</td>\n",
              "      <td>1</td>\n",
              "      <td>0</td>\n",
              "    </tr>\n",
              "    <tr>\n",
              "      <th>1</th>\n",
              "      <td>40</td>\n",
              "      <td>41</td>\n",
              "      <td>NaN</td>\n",
              "      <td>Afghanistan</td>\n",
              "      <td>2020-03-02 00:00:00+00:00</td>\n",
              "      <td>1</td>\n",
              "      <td>0</td>\n",
              "    </tr>\n",
              "    <tr>\n",
              "      <th>2</th>\n",
              "      <td>41</td>\n",
              "      <td>42</td>\n",
              "      <td>NaN</td>\n",
              "      <td>Afghanistan</td>\n",
              "      <td>2020-03-03 00:00:00+00:00</td>\n",
              "      <td>1</td>\n",
              "      <td>0</td>\n",
              "    </tr>\n",
              "    <tr>\n",
              "      <th>3</th>\n",
              "      <td>42</td>\n",
              "      <td>43</td>\n",
              "      <td>NaN</td>\n",
              "      <td>Afghanistan</td>\n",
              "      <td>2020-03-04 00:00:00+00:00</td>\n",
              "      <td>1</td>\n",
              "      <td>0</td>\n",
              "    </tr>\n",
              "    <tr>\n",
              "      <th>4</th>\n",
              "      <td>43</td>\n",
              "      <td>44</td>\n",
              "      <td>NaN</td>\n",
              "      <td>Afghanistan</td>\n",
              "      <td>2020-03-05 00:00:00+00:00</td>\n",
              "      <td>1</td>\n",
              "      <td>0</td>\n",
              "    </tr>\n",
              "  </tbody>\n",
              "</table>\n",
              "</div>"
            ],
            "text/plain": [
              "   Unnamed: 0  Id  ... ConfirmedCases Fatalities\n",
              "0          39  40  ...              1          0\n",
              "1          40  41  ...              1          0\n",
              "2          41  42  ...              1          0\n",
              "3          42  43  ...              1          0\n",
              "4          43  44  ...              1          0\n",
              "\n",
              "[5 rows x 7 columns]"
            ]
          },
          "metadata": {
            "tags": []
          },
          "execution_count": 4
        }
      ]
    },
    {
      "cell_type": "code",
      "metadata": {
        "id": "KFd4tl60ENu6",
        "outputId": "c2ef1ca9-96da-4841-bc51-d7d520174ddc",
        "colab": {
          "base_uri": "https://localhost:8080/",
          "height": 35
        }
      },
      "source": [
        "cases.shape"
      ],
      "execution_count": null,
      "outputs": [
        {
          "output_type": "execute_result",
          "data": {
            "text/plain": [
              "(14398, 7)"
            ]
          },
          "metadata": {
            "tags": []
          },
          "execution_count": 5
        }
      ]
    },
    {
      "cell_type": "code",
      "metadata": {
        "id": "9Bp3-FzGS3wM",
        "outputId": "4194247a-3678-4ca6-868f-a5859b747659",
        "colab": {
          "base_uri": "https://localhost:8080/",
          "height": 35
        }
      },
      "source": [
        "train_df.shape"
      ],
      "execution_count": null,
      "outputs": [
        {
          "output_type": "execute_result",
          "data": {
            "text/plain": [
              "(16128546, 22)"
            ]
          },
          "metadata": {
            "tags": []
          },
          "execution_count": 6
        }
      ]
    },
    {
      "cell_type": "code",
      "metadata": {
        "id": "XVq94nAtN7St",
        "outputId": "128fd254-1f34-40ea-81bb-febeefdd9884",
        "colab": {
          "base_uri": "https://localhost:8080/",
          "height": 34
        }
      },
      "source": [
        "train_df['country_code'].isna().sum()"
      ],
      "execution_count": null,
      "outputs": [
        {
          "output_type": "execute_result",
          "data": {
            "text/plain": [
              "15547176"
            ]
          },
          "metadata": {
            "tags": []
          },
          "execution_count": 8
        }
      ]
    },
    {
      "cell_type": "markdown",
      "metadata": {
        "id": "6Ukh5sCQ9CPK"
      },
      "source": [
        "    Remove tuples that containe NaN value from tweets df based on country code and created at columns "
      ]
    },
    {
      "cell_type": "code",
      "metadata": {
        "id": "wqQT7M0EP5zY"
      },
      "source": [
        "train_df = train_df.dropna(axis=0, subset=['country_code'])"
      ],
      "execution_count": null,
      "outputs": []
    },
    {
      "cell_type": "code",
      "metadata": {
        "id": "2uZyq75qQZd1",
        "outputId": "719b840b-23a9-48cf-df51-a159318e8e28",
        "colab": {
          "base_uri": "https://localhost:8080/",
          "height": 34
        }
      },
      "source": [
        "train_df.shape"
      ],
      "execution_count": null,
      "outputs": [
        {
          "output_type": "execute_result",
          "data": {
            "text/plain": [
              "(581218, 24)"
            ]
          },
          "metadata": {
            "tags": []
          },
          "execution_count": 23
        }
      ]
    },
    {
      "cell_type": "code",
      "metadata": {
        "id": "uCdDx9i7QjrT",
        "outputId": "9b88bde4-44b2-4330-f182-acf24f12f4cf",
        "colab": {
          "base_uri": "https://localhost:8080/",
          "height": 34
        }
      },
      "source": [
        "train_df['created_at'].isna().sum()"
      ],
      "execution_count": null,
      "outputs": [
        {
          "output_type": "execute_result",
          "data": {
            "text/plain": [
              "152"
            ]
          },
          "metadata": {
            "tags": []
          },
          "execution_count": 11
        }
      ]
    },
    {
      "cell_type": "code",
      "metadata": {
        "id": "h6heuEiVQgQ3"
      },
      "source": [
        "train_df = train_df.dropna(axis=0, subset=['created_at'])"
      ],
      "execution_count": null,
      "outputs": []
    },
    {
      "cell_type": "code",
      "metadata": {
        "id": "xo3RarvJQtfC",
        "outputId": "1b91a7d4-2624-4536-8b15-393ceecd8ce3",
        "colab": {
          "base_uri": "https://localhost:8080/",
          "height": 34
        }
      },
      "source": [
        "train_df.shape"
      ],
      "execution_count": null,
      "outputs": [
        {
          "output_type": "execute_result",
          "data": {
            "text/plain": [
              "(581214, 24)"
            ]
          },
          "metadata": {
            "tags": []
          },
          "execution_count": 25
        }
      ]
    },
    {
      "cell_type": "code",
      "metadata": {
        "id": "MXlvEvDqQx-d"
      },
      "source": [
        "#Convert  'Date' column to datetime format to extract date (Tweets file)\n",
        "from datetime import datetime\n",
        "train_df['created_at'] = pd.to_datetime(train_df['created_at'] , errors='coerce')\n",
        "train_df['date_new'] = train_df['created_at'].dt.date\n"
      ],
      "execution_count": null,
      "outputs": []
    },
    {
      "cell_type": "code",
      "metadata": {
        "id": "684B_Omc9ywN"
      },
      "source": [
        "#Convert  'Date' column to datetime format to extract date (CONFIRMED CASESS)\n",
        "from datetime import datetime\n",
        "cases['Date'] = pd.to_datetime(cases['Date'])\n",
        "cases['date_new'] = cases['Date'].dt.date"
      ],
      "execution_count": null,
      "outputs": []
    },
    {
      "cell_type": "code",
      "metadata": {
        "id": "kd1KaSdu-G-k"
      },
      "source": [
        "countries= {'AF': 'Afghanistan', 'AL': 'Albania', 'DZ': 'Algeria', 'AD': 'Andorra', 'AO': 'Angola', 'AG': 'Antigua and Barbuda'\n",
        "    ,'AM': 'Armenia', 'AW': 'Aruba', 'AU': 'Australia', 'AT': 'Austria', 'AZ': 'Azerbaijan', 'BS': 'Bahamas', 'BH': 'Bahrain'\n",
        "    ,'BD': 'Bangladesh', 'BB': 'Barbados', 'BE': 'Belgium', 'BZ': 'Belize', 'BJ': 'Benin', 'BM': 'Bermuda', 'BO': 'Bolivia', 'BQ': 'Bonaire, Sint Eustatius and Saba'\n",
        "    ,'BA': 'Bosnia and Herzegovina', 'BW': 'Botswana', 'BR': 'Brazil', 'VG': 'British Virgin Islands', 'BN': 'Brunei', 'BG': 'Bulgaria', 'BF': 'Burkina Faso', 'BI': 'Burundi'\n",
        "    ,'KH': 'Cambodia', 'CM': 'Cameroon', 'CA': 'Canada', 'KY': 'Cayman Islands', 'TD': 'Chad', 'CL': 'Chile', 'CO': 'Colombia', 'KM': 'Comoros', 'CG': 'Congo Brazzaville' ,'CR':'Costa Rica', 'CU': 'Cuba'\n",
        "    ,'CW': 'CuraÃ§ao', 'CZ': 'Czech Republic', 'CD': 'Democratic Republic of Congo', 'DK': 'Denmark', 'DJ': 'Djibouti', 'DM': 'Dominica', 'DO': 'Dominican Republic', 'TL': 'East Timor', 'EC': 'Ecuador', 'EG': 'Egypt'\n",
        "    ,'SV': 'El Salvador', 'EE': 'Estonia', 'ET': 'Ethiopia', 'FO': 'Faroe Islands', 'FJ': 'Fiji', 'FI': 'Finland', 'MK': 'Former Yugoslav Republic of Macedonia', 'FR': 'France', 'FG': 'French Guiana', 'PF': 'French Polynesia'\n",
        "    ,'GA': 'Gabon', 'GM': 'Gambia', 'GE': 'Georgia', 'DE': 'Germany', 'GH': 'Ghana', 'GI': 'Gibraltar', 'GD': 'Grenada', 'GP': 'Guadeloupe', 'GU': 'Guam', 'GT': 'Guatemala', 'GG': 'Guernsey', 'GN': 'Guinea', 'GW': 'Guinea Bissau'\n",
        "    ,'HT': 'Haiti', 'JO': 'Hashemite Kingdom of Jordan', 'GR': 'Hellas', 'HN': 'Honduras', 'HK': 'Hong Kong', 'HU': 'Hungary', 'IS': 'Iceland', 'IN': 'India', 'ID': 'Indonesia', 'IQ': 'Iraq', 'IE': 'Ireland', 'IR': 'Islamic Republic of Iran'\n",
        "    ,'IM': 'Isle of Man', 'IL': 'Israel', 'IT': 'Italy', 'CI': 'Ivory Coast', 'JM': 'Jamaica', 'JP': 'Japan', 'KZ': 'Kazakhstan', 'KE': 'Kenya', 'SA': 'Kingdom of Saudi Arabia', 'XK': 'Kosovo', 'KW': 'Kuwait', 'KG': 'Kyrgyzstan', 'RE': 'La RÃ©union'\n",
        "    ,'LA': 'Lao People\\'s Democratic Republic', 'LV': 'Latvia', 'LB': 'Lebanon', 'LS': 'Lesotho', 'LR': 'Liberia', 'LY': 'Libya', 'LI': 'Liechtenstein', 'LT': 'Lithuania', 'LU': 'Luxembourg', 'MO': 'Macau', 'MG': 'Madagascar', 'MW': 'Malawi', 'MY': 'Malaysia'\n",
        "    ,'MV': 'Maldives', 'ML': 'Mali', 'MT': 'Malta', 'MQ': 'Martinique', 'MR': 'Mauritania', 'MX': 'Mexico', 'MD': 'Moldova', 'MC': 'Monaco', 'MN': 'Mongolia', 'ME': 'Montenegro', 'MA': 'Morocco', 'MM': 'Myanmar', 'NA': 'Namibia', 'NP': 'Nepal', 'NZ': 'New Zealand'\n",
        "    ,'NI': 'Nicaragua', 'NE': 'Niger', 'NG': 'Nigeria', 'NO': 'Norway', 'OM': 'Oman', 'PK': 'Pakistan', 'PA': 'Panama', 'PG': 'Papua New Guinea', 'PY': 'Paraguay', 'CN': 'People\\'s Republic of China', 'PE': 'Peru', 'PL': 'Poland', 'PT': 'Portugal', 'QA': 'Qatar', 'HR': 'Republic of Croatia'\n",
        "    ,'KR': 'Republic of Korea', 'MU': 'Republic of Mauritius', 'MZ': 'Republic of Mozambique', 'RS': 'Republic of Serbia', 'SI':'Republic of Slovenia', 'PH': 'Republic of the Philippines', 'RO': 'Romania', 'RU':'Russia', 'RW': 'Rwanda', 'LC': 'Saint Lucia', 'SN': 'Senegal', 'SC': 'Seychelles'\n",
        "    ,'SL': 'Sierra Leone', 'SG': 'Singapore', 'SX': 'Sint Maarten', 'SK': 'Slovak Republic', 'SB': 'Solomon Islands', 'SO': 'Somalia', 'ZA': 'South Africa', 'ES': 'Spain', 'LK': 'Sri Lanka', 'SE': 'Sweden', 'CH': 'Switzerland', 'SY': 'Syria', 'TW': 'Taiwan', 'TZ': 'Tanzania', 'TH': 'Thailand'\n",
        "    ,'NL': 'The Netherlands', 'TG': 'Togo', 'TT': 'Trinidad and Tobago', 'TN': 'Tunisia', 'TR': 'Turkey', 'UG': 'Uganda', 'UA': 'Ukraine', 'AE': 'United Arab Emirates', 'GB': 'United Kingdom', 'PR': 'United States', 'US': 'United States', 'UY': 'Uruguay', 'VU': 'Vanuatu', 'VA': 'Vatican City', 'VE': 'Venezuela', 'VN': 'Vietnam'\n",
        "    ,'VI': 'Virgin Islands, U.S.', 'YE': 'Yemen', 'ZM': 'Zambia', 'ZW': 'Zimbabwe', 'NA': 'NA'\n",
        "}\n",
        "\n",
        "train_df['Country_Region'] =train_df['country_code'].map(countries)"
      ],
      "execution_count": null,
      "outputs": []
    },
    {
      "cell_type": "code",
      "metadata": {
        "id": "43TeZz5wSlC7"
      },
      "source": [
        "tweets_df1 = train_df[['date_new','text', 'Country_Region']]\n"
      ],
      "execution_count": null,
      "outputs": []
    },
    {
      "cell_type": "code",
      "metadata": {
        "id": "z_Xx8gnhWX1h",
        "outputId": "60524b9c-a783-40dd-99e6-6b13171b1ee7",
        "colab": {
          "base_uri": "https://localhost:8080/",
          "height": 204
        }
      },
      "source": [
        "tweets_df1.head()"
      ],
      "execution_count": null,
      "outputs": [
        {
          "output_type": "execute_result",
          "data": {
            "text/html": [
              "<div>\n",
              "<style scoped>\n",
              "    .dataframe tbody tr th:only-of-type {\n",
              "        vertical-align: middle;\n",
              "    }\n",
              "\n",
              "    .dataframe tbody tr th {\n",
              "        vertical-align: top;\n",
              "    }\n",
              "\n",
              "    .dataframe thead th {\n",
              "        text-align: right;\n",
              "    }\n",
              "</style>\n",
              "<table border=\"1\" class=\"dataframe\">\n",
              "  <thead>\n",
              "    <tr style=\"text-align: right;\">\n",
              "      <th></th>\n",
              "      <th>date_new</th>\n",
              "      <th>text</th>\n",
              "      <th>Country_Region</th>\n",
              "    </tr>\n",
              "  </thead>\n",
              "  <tbody>\n",
              "    <tr>\n",
              "      <th>58</th>\n",
              "      <td>2020-03-21</td>\n",
              "      <td>So, @moment offering to send gear to different...</td>\n",
              "      <td>United States</td>\n",
              "    </tr>\n",
              "    <tr>\n",
              "      <th>62</th>\n",
              "      <td>2020-03-21</td>\n",
              "      <td>@drsanjaygupta I was wondering how someone wit...</td>\n",
              "      <td>United States</td>\n",
              "    </tr>\n",
              "    <tr>\n",
              "      <th>63</th>\n",
              "      <td>2020-03-21</td>\n",
              "      <td>It has been a tough week. Looking for some joy...</td>\n",
              "      <td>United States</td>\n",
              "    </tr>\n",
              "    <tr>\n",
              "      <th>66</th>\n",
              "      <td>2020-03-21</td>\n",
              "      <td>#BREAKING 🇲🇦\\n\\n7 new cases of Covid19 infecti...</td>\n",
              "      <td>Morocco</td>\n",
              "    </tr>\n",
              "    <tr>\n",
              "      <th>74</th>\n",
              "      <td>2020-03-21</td>\n",
              "      <td>Italy scoring 4,000 deaths to date is just a r...</td>\n",
              "      <td>Republic of the Philippines</td>\n",
              "    </tr>\n",
              "  </tbody>\n",
              "</table>\n",
              "</div>"
            ],
            "text/plain": [
              "      date_new  ...               Country_Region\n",
              "58  2020-03-21  ...                United States\n",
              "62  2020-03-21  ...                United States\n",
              "63  2020-03-21  ...                United States\n",
              "66  2020-03-21  ...                      Morocco\n",
              "74  2020-03-21  ...  Republic of the Philippines\n",
              "\n",
              "[5 rows x 3 columns]"
            ]
          },
          "metadata": {
            "tags": []
          },
          "execution_count": 12
        }
      ]
    },
    {
      "cell_type": "code",
      "metadata": {
        "id": "xlmyksrJYrw5"
      },
      "source": [
        "cases_df2 = cases[['date_new','Country_Region', 'ConfirmedCases']]\n"
      ],
      "execution_count": null,
      "outputs": []
    },
    {
      "cell_type": "code",
      "metadata": {
        "id": "2CPRWPDuBy1-",
        "outputId": "b5cb6e19-93cb-42e7-e3b3-df7bfa872077",
        "colab": {
          "base_uri": "https://localhost:8080/",
          "height": 173
        }
      },
      "source": [
        "cases_df2.loc[cases_df2.Country_Region == \"US\", \"Country_Region\"] = \"United States\""
      ],
      "execution_count": null,
      "outputs": [
        {
          "output_type": "stream",
          "text": [
            "/usr/local/lib/python3.6/dist-packages/pandas/core/indexing.py:966: SettingWithCopyWarning:\n",
            "\n",
            "\n",
            "A value is trying to be set on a copy of a slice from a DataFrame.\n",
            "Try using .loc[row_indexer,col_indexer] = value instead\n",
            "\n",
            "See the caveats in the documentation: https://pandas.pydata.org/pandas-docs/stable/user_guide/indexing.html#returning-a-view-versus-a-copy\n",
            "\n"
          ],
          "name": "stderr"
        }
      ]
    },
    {
      "cell_type": "code",
      "metadata": {
        "id": "OVcqRbDYbVv1",
        "outputId": "184e770c-8099-42d9-85f1-acf37ea14c27",
        "colab": {
          "base_uri": "https://localhost:8080/",
          "height": 224
        }
      },
      "source": [
        "cases_df2.Country_Region.value_counts()"
      ],
      "execution_count": null,
      "outputs": [
        {
          "output_type": "execute_result",
          "data": {
            "text/plain": [
              "United States                       2484\n",
              "China                               1518\n",
              "Canada                               552\n",
              "France                               506\n",
              "United Kingdom                       506\n",
              "                                    ... \n",
              "Iceland                               46\n",
              "New Zealand                           46\n",
              "Holy See                              46\n",
              "Gambia                                46\n",
              "Saint Vincent and the Grenadines      46\n",
              "Name: Country_Region, Length: 184, dtype: int64"
            ]
          },
          "metadata": {
            "tags": []
          },
          "execution_count": 21
        }
      ]
    },
    {
      "cell_type": "code",
      "metadata": {
        "id": "FPOebBAZ1WqM"
      },
      "source": [
        "tweets_df1.to_csv('drive/My Drive/AI_COVID19/tweets_with_country_Code.csv', index = False)\n",
        "cases_df2.to_csv('drive/My Drive/AI_COVID19/cases_with_date.csv', index = False)"
      ],
      "execution_count": null,
      "outputs": []
    },
    {
      "cell_type": "markdown",
      "metadata": {
        "id": "UU9-cOWc_T4u"
      },
      "source": [
        "# **Merge tweets_df1 and cases_df2 into one dataframe**"
      ]
    },
    {
      "cell_type": "code",
      "metadata": {
        "id": "WJbj0JCgY-n7",
        "outputId": "8aabf958-558e-4ae6-c005-e1df70311bcd",
        "colab": {
          "base_uri": "https://localhost:8080/",
          "height": 419
        }
      },
      "source": [
        "tweets_df1"
      ],
      "execution_count": null,
      "outputs": [
        {
          "output_type": "execute_result",
          "data": {
            "text/html": [
              "<div>\n",
              "<style scoped>\n",
              "    .dataframe tbody tr th:only-of-type {\n",
              "        vertical-align: middle;\n",
              "    }\n",
              "\n",
              "    .dataframe tbody tr th {\n",
              "        vertical-align: top;\n",
              "    }\n",
              "\n",
              "    .dataframe thead th {\n",
              "        text-align: right;\n",
              "    }\n",
              "</style>\n",
              "<table border=\"1\" class=\"dataframe\">\n",
              "  <thead>\n",
              "    <tr style=\"text-align: right;\">\n",
              "      <th></th>\n",
              "      <th>date_new</th>\n",
              "      <th>text</th>\n",
              "      <th>Country_Region</th>\n",
              "    </tr>\n",
              "  </thead>\n",
              "  <tbody>\n",
              "    <tr>\n",
              "      <th>58</th>\n",
              "      <td>2020-03-21</td>\n",
              "      <td>So, @moment offering to send gear to different...</td>\n",
              "      <td>United States</td>\n",
              "    </tr>\n",
              "    <tr>\n",
              "      <th>62</th>\n",
              "      <td>2020-03-21</td>\n",
              "      <td>@drsanjaygupta I was wondering how someone wit...</td>\n",
              "      <td>United States</td>\n",
              "    </tr>\n",
              "    <tr>\n",
              "      <th>63</th>\n",
              "      <td>2020-03-21</td>\n",
              "      <td>It has been a tough week. Looking for some joy...</td>\n",
              "      <td>United States</td>\n",
              "    </tr>\n",
              "    <tr>\n",
              "      <th>66</th>\n",
              "      <td>2020-03-21</td>\n",
              "      <td>#BREAKING 🇲🇦\\n\\n7 new cases of Covid19 infecti...</td>\n",
              "      <td>Morocco</td>\n",
              "    </tr>\n",
              "    <tr>\n",
              "      <th>74</th>\n",
              "      <td>2020-03-21</td>\n",
              "      <td>Italy scoring 4,000 deaths to date is just a r...</td>\n",
              "      <td>Republic of the Philippines</td>\n",
              "    </tr>\n",
              "    <tr>\n",
              "      <th>...</th>\n",
              "      <td>...</td>\n",
              "      <td>...</td>\n",
              "      <td>...</td>\n",
              "    </tr>\n",
              "    <tr>\n",
              "      <th>16128510</th>\n",
              "      <td>2020-04-03</td>\n",
              "      <td>What’s that saying? Keep your friends close an...</td>\n",
              "      <td>United States</td>\n",
              "    </tr>\n",
              "    <tr>\n",
              "      <th>16128511</th>\n",
              "      <td>2020-04-03</td>\n",
              "      <td>Garbage can privacy fence stained.\\n\\n#COVID19...</td>\n",
              "      <td>United States</td>\n",
              "    </tr>\n",
              "    <tr>\n",
              "      <th>16128516</th>\n",
              "      <td>2020-04-03</td>\n",
              "      <td>@lynn_laidlaw @bexwhitworth @Danielf90 @Trisha...</td>\n",
              "      <td>United Kingdom</td>\n",
              "    </tr>\n",
              "    <tr>\n",
              "      <th>16128535</th>\n",
              "      <td>2020-04-03</td>\n",
              "      <td>This message from one of our @MKO_North Leader...</td>\n",
              "      <td>Canada</td>\n",
              "    </tr>\n",
              "    <tr>\n",
              "      <th>16128543</th>\n",
              "      <td>2020-04-03</td>\n",
              "      <td>Last day of @GarrisonMillES Spirit Week. It ma...</td>\n",
              "      <td>United States</td>\n",
              "    </tr>\n",
              "  </tbody>\n",
              "</table>\n",
              "<p>581214 rows × 3 columns</p>\n",
              "</div>"
            ],
            "text/plain": [
              "            date_new  ...               Country_Region\n",
              "58        2020-03-21  ...                United States\n",
              "62        2020-03-21  ...                United States\n",
              "63        2020-03-21  ...                United States\n",
              "66        2020-03-21  ...                      Morocco\n",
              "74        2020-03-21  ...  Republic of the Philippines\n",
              "...              ...  ...                          ...\n",
              "16128510  2020-04-03  ...                United States\n",
              "16128511  2020-04-03  ...                United States\n",
              "16128516  2020-04-03  ...               United Kingdom\n",
              "16128535  2020-04-03  ...                       Canada\n",
              "16128543  2020-04-03  ...                United States\n",
              "\n",
              "[581214 rows x 3 columns]"
            ]
          },
          "metadata": {
            "tags": []
          },
          "execution_count": 32
        }
      ]
    },
    {
      "cell_type": "code",
      "metadata": {
        "id": "LbSBHrHocEUk"
      },
      "source": [
        "df_3= tweets_df1"
      ],
      "execution_count": null,
      "outputs": []
    },
    {
      "cell_type": "code",
      "metadata": {
        "id": "mOwm9uBNhx72",
        "outputId": "c109779c-e110-4b98-d947-80a6d6ba35f4",
        "colab": {
          "base_uri": "https://localhost:8080/",
          "height": 419
        }
      },
      "source": [
        "cases_df2"
      ],
      "execution_count": null,
      "outputs": [
        {
          "output_type": "execute_result",
          "data": {
            "text/html": [
              "<div>\n",
              "<style scoped>\n",
              "    .dataframe tbody tr th:only-of-type {\n",
              "        vertical-align: middle;\n",
              "    }\n",
              "\n",
              "    .dataframe tbody tr th {\n",
              "        vertical-align: top;\n",
              "    }\n",
              "\n",
              "    .dataframe thead th {\n",
              "        text-align: right;\n",
              "    }\n",
              "</style>\n",
              "<table border=\"1\" class=\"dataframe\">\n",
              "  <thead>\n",
              "    <tr style=\"text-align: right;\">\n",
              "      <th></th>\n",
              "      <th>date_new</th>\n",
              "      <th>Country_Region</th>\n",
              "      <th>ConfirmedCases</th>\n",
              "    </tr>\n",
              "  </thead>\n",
              "  <tbody>\n",
              "    <tr>\n",
              "      <th>0</th>\n",
              "      <td>2020-03-01</td>\n",
              "      <td>Afghanistan</td>\n",
              "      <td>1</td>\n",
              "    </tr>\n",
              "    <tr>\n",
              "      <th>1</th>\n",
              "      <td>2020-03-02</td>\n",
              "      <td>Afghanistan</td>\n",
              "      <td>1</td>\n",
              "    </tr>\n",
              "    <tr>\n",
              "      <th>2</th>\n",
              "      <td>2020-03-03</td>\n",
              "      <td>Afghanistan</td>\n",
              "      <td>1</td>\n",
              "    </tr>\n",
              "    <tr>\n",
              "      <th>3</th>\n",
              "      <td>2020-03-04</td>\n",
              "      <td>Afghanistan</td>\n",
              "      <td>1</td>\n",
              "    </tr>\n",
              "    <tr>\n",
              "      <th>4</th>\n",
              "      <td>2020-03-05</td>\n",
              "      <td>Afghanistan</td>\n",
              "      <td>1</td>\n",
              "    </tr>\n",
              "    <tr>\n",
              "      <th>...</th>\n",
              "      <td>...</td>\n",
              "      <td>...</td>\n",
              "      <td>...</td>\n",
              "    </tr>\n",
              "    <tr>\n",
              "      <th>14393</th>\n",
              "      <td>2020-04-11</td>\n",
              "      <td>Zimbabwe</td>\n",
              "      <td>14</td>\n",
              "    </tr>\n",
              "    <tr>\n",
              "      <th>14394</th>\n",
              "      <td>2020-04-12</td>\n",
              "      <td>Zimbabwe</td>\n",
              "      <td>14</td>\n",
              "    </tr>\n",
              "    <tr>\n",
              "      <th>14395</th>\n",
              "      <td>2020-04-13</td>\n",
              "      <td>Zimbabwe</td>\n",
              "      <td>17</td>\n",
              "    </tr>\n",
              "    <tr>\n",
              "      <th>14396</th>\n",
              "      <td>2020-04-14</td>\n",
              "      <td>Zimbabwe</td>\n",
              "      <td>17</td>\n",
              "    </tr>\n",
              "    <tr>\n",
              "      <th>14397</th>\n",
              "      <td>2020-04-15</td>\n",
              "      <td>Zimbabwe</td>\n",
              "      <td>23</td>\n",
              "    </tr>\n",
              "  </tbody>\n",
              "</table>\n",
              "<p>14398 rows × 3 columns</p>\n",
              "</div>"
            ],
            "text/plain": [
              "         date_new Country_Region  ConfirmedCases\n",
              "0      2020-03-01    Afghanistan               1\n",
              "1      2020-03-02    Afghanistan               1\n",
              "2      2020-03-03    Afghanistan               1\n",
              "3      2020-03-04    Afghanistan               1\n",
              "4      2020-03-05    Afghanistan               1\n",
              "...           ...            ...             ...\n",
              "14393  2020-04-11       Zimbabwe              14\n",
              "14394  2020-04-12       Zimbabwe              14\n",
              "14395  2020-04-13       Zimbabwe              17\n",
              "14396  2020-04-14       Zimbabwe              17\n",
              "14397  2020-04-15       Zimbabwe              23\n",
              "\n",
              "[14398 rows x 3 columns]"
            ]
          },
          "metadata": {
            "tags": []
          },
          "execution_count": 35
        }
      ]
    },
    {
      "cell_type": "code",
      "metadata": {
        "id": "kR2ULoM4Zu4C"
      },
      "source": [
        "df_merge_difkey = pd.merge(tweets_df1, cases_df2, left_on=['date_new', 'Country_Region'], right_on=['date_new','Country_Region'])"
      ],
      "execution_count": null,
      "outputs": []
    },
    {
      "cell_type": "code",
      "metadata": {
        "id": "wc8W3Kgebd2v",
        "outputId": "3cea5ed4-dc34-41ff-800c-de0b34662833",
        "colab": {
          "base_uri": "https://localhost:8080/",
          "height": 419
        }
      },
      "source": [
        "df_merge_difkey"
      ],
      "execution_count": null,
      "outputs": [
        {
          "output_type": "execute_result",
          "data": {
            "text/html": [
              "<div>\n",
              "<style scoped>\n",
              "    .dataframe tbody tr th:only-of-type {\n",
              "        vertical-align: middle;\n",
              "    }\n",
              "\n",
              "    .dataframe tbody tr th {\n",
              "        vertical-align: top;\n",
              "    }\n",
              "\n",
              "    .dataframe thead th {\n",
              "        text-align: right;\n",
              "    }\n",
              "</style>\n",
              "<table border=\"1\" class=\"dataframe\">\n",
              "  <thead>\n",
              "    <tr style=\"text-align: right;\">\n",
              "      <th></th>\n",
              "      <th>date_new</th>\n",
              "      <th>text</th>\n",
              "      <th>Country_Region</th>\n",
              "      <th>ConfirmedCases</th>\n",
              "    </tr>\n",
              "  </thead>\n",
              "  <tbody>\n",
              "    <tr>\n",
              "      <th>0</th>\n",
              "      <td>2020-03-21</td>\n",
              "      <td>So, @moment offering to send gear to different...</td>\n",
              "      <td>United States</td>\n",
              "      <td>131</td>\n",
              "    </tr>\n",
              "    <tr>\n",
              "      <th>1</th>\n",
              "      <td>2020-03-21</td>\n",
              "      <td>So, @moment offering to send gear to different...</td>\n",
              "      <td>United States</td>\n",
              "      <td>15</td>\n",
              "    </tr>\n",
              "    <tr>\n",
              "      <th>2</th>\n",
              "      <td>2020-03-21</td>\n",
              "      <td>So, @moment offering to send gear to different...</td>\n",
              "      <td>United States</td>\n",
              "      <td>118</td>\n",
              "    </tr>\n",
              "    <tr>\n",
              "      <th>3</th>\n",
              "      <td>2020-03-21</td>\n",
              "      <td>So, @moment offering to send gear to different...</td>\n",
              "      <td>United States</td>\n",
              "      <td>122</td>\n",
              "    </tr>\n",
              "    <tr>\n",
              "      <th>4</th>\n",
              "      <td>2020-03-21</td>\n",
              "      <td>So, @moment offering to send gear to different...</td>\n",
              "      <td>United States</td>\n",
              "      <td>1364</td>\n",
              "    </tr>\n",
              "    <tr>\n",
              "      <th>...</th>\n",
              "      <td>...</td>\n",
              "      <td>...</td>\n",
              "      <td>...</td>\n",
              "      <td>...</td>\n",
              "    </tr>\n",
              "    <tr>\n",
              "      <th>16407650</th>\n",
              "      <td>2020-04-03</td>\n",
              "      <td>Micro droplets suspending in air - Kyoto resea...</td>\n",
              "      <td>Romania</td>\n",
              "      <td>3183</td>\n",
              "    </tr>\n",
              "    <tr>\n",
              "      <th>16407651</th>\n",
              "      <td>2020-04-03</td>\n",
              "      <td>Now we await season 5 patiently #LaCasaDePapel...</td>\n",
              "      <td>Dominica</td>\n",
              "      <td>12</td>\n",
              "    </tr>\n",
              "    <tr>\n",
              "      <th>16407652</th>\n",
              "      <td>2020-04-03</td>\n",
              "      <td>April 3, 2020. Total of 14 #COVID19 confirmed ...</td>\n",
              "      <td>Dominica</td>\n",
              "      <td>12</td>\n",
              "    </tr>\n",
              "    <tr>\n",
              "      <th>16407653</th>\n",
              "      <td>2020-04-03</td>\n",
              "      <td>Black &amp;amp; White day! 🏳🙃🏴\\n#cuarentena #quare...</td>\n",
              "      <td>Venezuela</td>\n",
              "      <td>153</td>\n",
              "    </tr>\n",
              "    <tr>\n",
              "      <th>16407654</th>\n",
              "      <td>2020-04-03</td>\n",
              "      <td>@Newsweek I can care less if @realDonaldTrump ...</td>\n",
              "      <td>Ecuador</td>\n",
              "      <td>3368</td>\n",
              "    </tr>\n",
              "  </tbody>\n",
              "</table>\n",
              "<p>16407655 rows × 4 columns</p>\n",
              "</div>"
            ],
            "text/plain": [
              "            date_new  ... ConfirmedCases\n",
              "0         2020-03-21  ...            131\n",
              "1         2020-03-21  ...             15\n",
              "2         2020-03-21  ...            118\n",
              "3         2020-03-21  ...            122\n",
              "4         2020-03-21  ...           1364\n",
              "...              ...  ...            ...\n",
              "16407650  2020-04-03  ...           3183\n",
              "16407651  2020-04-03  ...             12\n",
              "16407652  2020-04-03  ...             12\n",
              "16407653  2020-04-03  ...            153\n",
              "16407654  2020-04-03  ...           3368\n",
              "\n",
              "[16407655 rows x 4 columns]"
            ]
          },
          "metadata": {
            "tags": []
          },
          "execution_count": 34
        }
      ]
    },
    {
      "cell_type": "markdown",
      "metadata": {
        "id": "BjWWa-UUaXhi"
      },
      "source": [
        "Merge using For loop"
      ]
    },
    {
      "cell_type": "code",
      "metadata": {
        "id": "zLaKYnsMHpsy"
      },
      "source": [
        "from csv import writer\n",
        "from csv import reader\n",
        "#create new column for confirmed cases\n",
        "tweets_df1['confirmed_cases']=''\n",
        "#Add confirmed cases to the file based on the date and country\n",
        "for i in range(0,len(tweets_df1)):\n",
        "  for j in range(0,len(cases_df2)):\n",
        "    if (tweets_df1.iloc[0]['date_new']==cases_df2.loc[j]['date_new']) and (tweets_df1.iloc[0]['Country_Region']==cases_df2.loc[j]['Country_Region']) :\n",
        "      tweets_df1['confirmed_cases'][i]=cases_df2['ConfirmedCases'][j]\n",
        "    else:\n",
        "      tweets_df1['confirmed_cases'][i]=0\n",
        "\n",
        "    \n",
        "   \n"
      ],
      "execution_count": null,
      "outputs": []
    },
    {
      "cell_type": "code",
      "metadata": {
        "id": "vSlvTrKVlZlh"
      },
      "source": [
        "tweets_df1.to_csv('drive/My Drive/AI_COVID19/merged_data.csv', index = False)"
      ],
      "execution_count": null,
      "outputs": []
    },
    {
      "cell_type": "markdown",
      "metadata": {
        "id": "pYxgNWqaeRtH"
      },
      "source": [
        "# **plotting**"
      ]
    },
    {
      "cell_type": "code",
      "metadata": {
        "id": "oorNZLLJoB9f",
        "outputId": "dc9aea1d-a7ff-4835-afe9-fbb3e9279f49",
        "colab": {
          "base_uri": "https://localhost:8080/",
          "height": 469
        }
      },
      "source": [
        "!pip install geopandas "
      ],
      "execution_count": null,
      "outputs": [
        {
          "output_type": "stream",
          "text": [
            "Collecting geopandas\n",
            "\u001b[?25l  Downloading https://files.pythonhosted.org/packages/83/c5/3cf9cdc39a6f2552922f79915f36b45a95b71fd343cfc51170a5b6ddb6e8/geopandas-0.7.0-py2.py3-none-any.whl (928kB)\n",
            "\u001b[K     |████████████████████████████████| 931kB 3.3MB/s \n",
            "\u001b[?25hRequirement already satisfied: shapely in /usr/local/lib/python3.6/dist-packages (from geopandas) (1.7.0)\n",
            "Collecting fiona\n",
            "\u001b[?25l  Downloading https://files.pythonhosted.org/packages/ec/20/4e63bc5c6e62df889297b382c3ccd4a7a488b00946aaaf81a118158c6f09/Fiona-1.8.13.post1-cp36-cp36m-manylinux1_x86_64.whl (14.7MB)\n",
            "\u001b[K     |████████████████████████████████| 14.7MB 314kB/s \n",
            "\u001b[?25hCollecting pyproj>=2.2.0\n",
            "\u001b[?25l  Downloading https://files.pythonhosted.org/packages/e5/c3/071e080230ac4b6c64f1a2e2f9161c9737a2bc7b683d2c90b024825000c0/pyproj-2.6.1.post1-cp36-cp36m-manylinux2010_x86_64.whl (10.9MB)\n",
            "\u001b[K     |████████████████████████████████| 10.9MB 12.4MB/s \n",
            "\u001b[?25hRequirement already satisfied: pandas>=0.23.0 in /usr/local/lib/python3.6/dist-packages (from geopandas) (1.0.3)\n",
            "Collecting cligj>=0.5\n",
            "  Downloading https://files.pythonhosted.org/packages/e4/be/30a58b4b0733850280d01f8bd132591b4668ed5c7046761098d665ac2174/cligj-0.5.0-py3-none-any.whl\n",
            "Collecting click-plugins>=1.0\n",
            "  Downloading https://files.pythonhosted.org/packages/e9/da/824b92d9942f4e472702488857914bdd50f73021efea15b4cad9aca8ecef/click_plugins-1.1.1-py2.py3-none-any.whl\n",
            "Requirement already satisfied: six>=1.7 in /usr/local/lib/python3.6/dist-packages (from fiona->geopandas) (1.12.0)\n",
            "Requirement already satisfied: click<8,>=4.0 in /usr/local/lib/python3.6/dist-packages (from fiona->geopandas) (7.1.2)\n",
            "Collecting munch\n",
            "  Downloading https://files.pythonhosted.org/packages/cc/ab/85d8da5c9a45e072301beb37ad7f833cd344e04c817d97e0cc75681d248f/munch-2.5.0-py2.py3-none-any.whl\n",
            "Requirement already satisfied: attrs>=17 in /usr/local/lib/python3.6/dist-packages (from fiona->geopandas) (19.3.0)\n",
            "Requirement already satisfied: numpy>=1.13.3 in /usr/local/lib/python3.6/dist-packages (from pandas>=0.23.0->geopandas) (1.18.4)\n",
            "Requirement already satisfied: pytz>=2017.2 in /usr/local/lib/python3.6/dist-packages (from pandas>=0.23.0->geopandas) (2018.9)\n",
            "Requirement already satisfied: python-dateutil>=2.6.1 in /usr/local/lib/python3.6/dist-packages (from pandas>=0.23.0->geopandas) (2.8.1)\n",
            "Installing collected packages: cligj, click-plugins, munch, fiona, pyproj, geopandas\n",
            "Successfully installed click-plugins-1.1.1 cligj-0.5.0 fiona-1.8.13.post1 geopandas-0.7.0 munch-2.5.0 pyproj-2.6.1.post1\n"
          ],
          "name": "stdout"
        }
      ]
    },
    {
      "cell_type": "code",
      "metadata": {
        "id": "7i3pkcepoZmi",
        "outputId": "89680543-2765-4a69-cfa2-25f773d98cf1",
        "colab": {
          "base_uri": "https://localhost:8080/",
          "height": 262
        }
      },
      "source": [
        "!pip install chart_studio"
      ],
      "execution_count": null,
      "outputs": [
        {
          "output_type": "stream",
          "text": [
            "Collecting chart_studio\n",
            "\u001b[?25l  Downloading https://files.pythonhosted.org/packages/ca/ce/330794a6b6ca4b9182c38fc69dd2a9cbff60fd49421cb8648ee5fee352dc/chart_studio-1.1.0-py3-none-any.whl (64kB)\n",
            "\r\u001b[K     |█████                           | 10kB 20.3MB/s eta 0:00:01\r\u001b[K     |██████████▏                     | 20kB 2.2MB/s eta 0:00:01\r\u001b[K     |███████████████▎                | 30kB 2.9MB/s eta 0:00:01\r\u001b[K     |████████████████████▍           | 40kB 2.1MB/s eta 0:00:01\r\u001b[K     |█████████████████████████▍      | 51kB 2.3MB/s eta 0:00:01\r\u001b[K     |██████████████████████████████▌ | 61kB 2.8MB/s eta 0:00:01\r\u001b[K     |████████████████████████████████| 71kB 2.5MB/s \n",
            "\u001b[?25hRequirement already satisfied: retrying>=1.3.3 in /usr/local/lib/python3.6/dist-packages (from chart_studio) (1.3.3)\n",
            "Requirement already satisfied: requests in /usr/local/lib/python3.6/dist-packages (from chart_studio) (2.23.0)\n",
            "Requirement already satisfied: six in /usr/local/lib/python3.6/dist-packages (from chart_studio) (1.12.0)\n",
            "Requirement already satisfied: plotly in /usr/local/lib/python3.6/dist-packages (from chart_studio) (4.4.1)\n",
            "Requirement already satisfied: chardet<4,>=3.0.2 in /usr/local/lib/python3.6/dist-packages (from requests->chart_studio) (3.0.4)\n",
            "Requirement already satisfied: idna<3,>=2.5 in /usr/local/lib/python3.6/dist-packages (from requests->chart_studio) (2.9)\n",
            "Requirement already satisfied: urllib3!=1.25.0,!=1.25.1,<1.26,>=1.21.1 in /usr/local/lib/python3.6/dist-packages (from requests->chart_studio) (1.24.3)\n",
            "Requirement already satisfied: certifi>=2017.4.17 in /usr/local/lib/python3.6/dist-packages (from requests->chart_studio) (2020.4.5.1)\n",
            "Installing collected packages: chart-studio\n",
            "Successfully installed chart-studio-1.1.0\n"
          ],
          "name": "stdout"
        }
      ]
    },
    {
      "cell_type": "code",
      "metadata": {
        "id": "khenjP_RpHhH",
        "outputId": "424e77fa-662e-4a01-da9a-98719e4a6173",
        "colab": {
          "base_uri": "https://localhost:8080/",
          "height": 69
        }
      },
      "source": [
        "import nltk\n",
        "\n",
        "nltk.download('stopwords')\n"
      ],
      "execution_count": null,
      "outputs": [
        {
          "output_type": "stream",
          "text": [
            "[nltk_data] Downloading package stopwords to /root/nltk_data...\n",
            "[nltk_data]   Unzipping corpora/stopwords.zip.\n"
          ],
          "name": "stdout"
        },
        {
          "output_type": "execute_result",
          "data": {
            "text/plain": [
              "True"
            ]
          },
          "metadata": {
            "tags": []
          },
          "execution_count": 27
        }
      ]
    },
    {
      "cell_type": "code",
      "metadata": {
        "id": "rm5uawqUpeqS",
        "outputId": "131a0e3f-1021-4b8f-efca-29a6094553a4",
        "colab": {
          "base_uri": "https://localhost:8080/",
          "height": 642
        }
      },
      "source": [
        "!pip install pyLDAvis"
      ],
      "execution_count": null,
      "outputs": [
        {
          "output_type": "stream",
          "text": [
            "Collecting pyLDAvis\n",
            "\u001b[?25l  Downloading https://files.pythonhosted.org/packages/a5/3a/af82e070a8a96e13217c8f362f9a73e82d61ac8fff3a2561946a97f96266/pyLDAvis-2.1.2.tar.gz (1.6MB)\n",
            "\u001b[K     |████████████████████████████████| 1.6MB 3.2MB/s \n",
            "\u001b[?25hRequirement already satisfied: wheel>=0.23.0 in /usr/local/lib/python3.6/dist-packages (from pyLDAvis) (0.34.2)\n",
            "Requirement already satisfied: numpy>=1.9.2 in /usr/local/lib/python3.6/dist-packages (from pyLDAvis) (1.18.4)\n",
            "Requirement already satisfied: scipy>=0.18.0 in /usr/local/lib/python3.6/dist-packages (from pyLDAvis) (1.4.1)\n",
            "Requirement already satisfied: pandas>=0.17.0 in /usr/local/lib/python3.6/dist-packages (from pyLDAvis) (1.0.3)\n",
            "Requirement already satisfied: joblib>=0.8.4 in /usr/local/lib/python3.6/dist-packages (from pyLDAvis) (0.14.1)\n",
            "Requirement already satisfied: jinja2>=2.7.2 in /usr/local/lib/python3.6/dist-packages (from pyLDAvis) (2.11.2)\n",
            "Requirement already satisfied: numexpr in /usr/local/lib/python3.6/dist-packages (from pyLDAvis) (2.7.1)\n",
            "Requirement already satisfied: pytest in /usr/local/lib/python3.6/dist-packages (from pyLDAvis) (3.6.4)\n",
            "Requirement already satisfied: future in /usr/local/lib/python3.6/dist-packages (from pyLDAvis) (0.16.0)\n",
            "Collecting funcy\n",
            "\u001b[?25l  Downloading https://files.pythonhosted.org/packages/ce/4b/6ffa76544e46614123de31574ad95758c421aae391a1764921b8a81e1eae/funcy-1.14.tar.gz (548kB)\n",
            "\u001b[K     |████████████████████████████████| 552kB 19.4MB/s \n",
            "\u001b[?25hRequirement already satisfied: pytz>=2017.2 in /usr/local/lib/python3.6/dist-packages (from pandas>=0.17.0->pyLDAvis) (2018.9)\n",
            "Requirement already satisfied: python-dateutil>=2.6.1 in /usr/local/lib/python3.6/dist-packages (from pandas>=0.17.0->pyLDAvis) (2.8.1)\n",
            "Requirement already satisfied: MarkupSafe>=0.23 in /usr/local/lib/python3.6/dist-packages (from jinja2>=2.7.2->pyLDAvis) (1.1.1)\n",
            "Requirement already satisfied: attrs>=17.4.0 in /usr/local/lib/python3.6/dist-packages (from pytest->pyLDAvis) (19.3.0)\n",
            "Requirement already satisfied: pluggy<0.8,>=0.5 in /usr/local/lib/python3.6/dist-packages (from pytest->pyLDAvis) (0.7.1)\n",
            "Requirement already satisfied: more-itertools>=4.0.0 in /usr/local/lib/python3.6/dist-packages (from pytest->pyLDAvis) (8.2.0)\n",
            "Requirement already satisfied: setuptools in /usr/local/lib/python3.6/dist-packages (from pytest->pyLDAvis) (46.1.3)\n",
            "Requirement already satisfied: py>=1.5.0 in /usr/local/lib/python3.6/dist-packages (from pytest->pyLDAvis) (1.8.1)\n",
            "Requirement already satisfied: six>=1.10.0 in /usr/local/lib/python3.6/dist-packages (from pytest->pyLDAvis) (1.12.0)\n",
            "Requirement already satisfied: atomicwrites>=1.0 in /usr/local/lib/python3.6/dist-packages (from pytest->pyLDAvis) (1.4.0)\n",
            "Building wheels for collected packages: pyLDAvis, funcy\n",
            "  Building wheel for pyLDAvis (setup.py) ... \u001b[?25l\u001b[?25hdone\n",
            "  Created wheel for pyLDAvis: filename=pyLDAvis-2.1.2-py2.py3-none-any.whl size=97711 sha256=547f920a6484f39a2ee3553f2f43e075ed737286fac482816877c01ec81e83f0\n",
            "  Stored in directory: /root/.cache/pip/wheels/98/71/24/513a99e58bb6b8465bae4d2d5e9dba8f0bef8179e3051ac414\n",
            "  Building wheel for funcy (setup.py) ... \u001b[?25l\u001b[?25hdone\n",
            "  Created wheel for funcy: filename=funcy-1.14-py2.py3-none-any.whl size=32042 sha256=912e317c57ac3e3d4a18060e2f2aa1a9afeeb7570d317fd7d3ec0a6ad7226462\n",
            "  Stored in directory: /root/.cache/pip/wheels/20/5a/d8/1d875df03deae6f178dfdf70238cca33f948ef8a6f5209f2eb\n",
            "Successfully built pyLDAvis funcy\n",
            "Installing collected packages: funcy, pyLDAvis\n",
            "Successfully installed funcy-1.14 pyLDAvis-2.1.2\n"
          ],
          "name": "stdout"
        }
      ]
    },
    {
      "cell_type": "code",
      "metadata": {
        "id": "dVWcLXI5qMag",
        "outputId": "d45668ec-3ea7-4c16-b2eb-258aa1c6fdc8",
        "colab": {
          "base_uri": "https://localhost:8080/",
          "height": 106
        }
      },
      "source": [
        "!pip install squarify"
      ],
      "execution_count": null,
      "outputs": [
        {
          "output_type": "stream",
          "text": [
            "Collecting squarify\n",
            "  Downloading https://files.pythonhosted.org/packages/0b/2b/2e77c35326efec19819cd1d729540d4d235e6c2a3f37658288a363a67da5/squarify-0.4.3-py3-none-any.whl\n",
            "Installing collected packages: squarify\n",
            "Successfully installed squarify-0.4.3\n"
          ],
          "name": "stdout"
        }
      ]
    },
    {
      "cell_type": "code",
      "metadata": {
        "id": "Ql1eqKNIeQ-i",
        "outputId": "e632772c-4cd4-4a21-8094-e0ea6d4acc6a",
        "colab": {
          "base_uri": "https://localhost:8080/",
          "height": 17
        }
      },
      "source": [
        "#plotting libraries!\n",
        "import matplotlib.pyplot as plt\n",
        "import seaborn as sns\n",
        "from shapely.geometry import Point\n",
        "import geopandas as gpd\n",
        "from geopandas import GeoDataFrame\n",
        "%matplotlib inline\n",
        "\n",
        "\n",
        "#PLOTLY\n",
        "import chart_studio\n",
        "import plotly\n",
        "import chart_studio.plotly as py\n",
        "import plotly.offline as offline\n",
        "import plotly.graph_objs as go\n",
        "from plotly.offline import download_plotlyjs, init_notebook_mode, plot, iplot\n",
        "init_notebook_mode(connected=True)\n",
        "import cufflinks as cf\n",
        "from collections import defaultdict\n",
        "from plotly import tools\n",
        "from plotly.graph_objs import Scatter, Figure, Layout\n",
        "cf.set_config_file(offline=True)\n",
        "from textblob import TextBlob\n",
        "from nltk.corpus import stopwords\n",
        "eng_stopwords = set(stopwords.words(\"english\"))\n",
        "from wordcloud import WordCloud, STOPWORDS\n",
        "from sklearn.decomposition import NMF, LatentDirichletAllocation, TruncatedSVD\n",
        "from sklearn.feature_extraction.text import CountVectorizer\n",
        "import pyLDAvis.sklearn\n",
        "from pylab import bone, pcolor, colorbar, plot, show, rcParams, savefig\n",
        "import squarify\n"
      ],
      "execution_count": null,
      "outputs": [
        {
          "output_type": "display_data",
          "data": {
            "text/html": [
              "        <script type=\"text/javascript\">\n",
              "        window.PlotlyConfig = {MathJaxConfig: 'local'};\n",
              "        if (window.MathJax) {MathJax.Hub.Config({SVG: {font: \"STIX-Web\"}});}\n",
              "        if (typeof require !== 'undefined') {\n",
              "        require.undef(\"plotly\");\n",
              "        requirejs.config({\n",
              "            paths: {\n",
              "                'plotly': ['https://cdn.plot.ly/plotly-latest.min']\n",
              "            }\n",
              "        });\n",
              "        require(['plotly'], function(Plotly) {\n",
              "            window._Plotly = Plotly;\n",
              "        });\n",
              "        }\n",
              "        </script>\n",
              "        "
            ]
          },
          "metadata": {
            "tags": []
          }
        },
        {
          "output_type": "display_data",
          "data": {
            "text/html": [
              "        <script type=\"text/javascript\">\n",
              "        window.PlotlyConfig = {MathJaxConfig: 'local'};\n",
              "        if (window.MathJax) {MathJax.Hub.Config({SVG: {font: \"STIX-Web\"}});}\n",
              "        if (typeof require !== 'undefined') {\n",
              "        require.undef(\"plotly\");\n",
              "        requirejs.config({\n",
              "            paths: {\n",
              "                'plotly': ['https://cdn.plot.ly/plotly-latest.min']\n",
              "            }\n",
              "        });\n",
              "        require(['plotly'], function(Plotly) {\n",
              "            window._Plotly = Plotly;\n",
              "        });\n",
              "        }\n",
              "        </script>\n",
              "        "
            ]
          },
          "metadata": {
            "tags": []
          }
        }
      ]
    },
    {
      "cell_type": "code",
      "metadata": {
        "id": "wV81CMNPfBju"
      },
      "source": [
        "#Plot the tweets count within the dates\n",
        "train_df['created_at'] =  pd.to_datetime(train_df['created_at'])\n",
        "cnt_srs =train_df['created_at'].dt.date.value_counts()\n",
        "cnt_srs = cnt_srs.sort_index()\n",
        "plt.figure(figsize=(14,6))\n",
        "sns.barplot(cnt_srs.index, cnt_srs.values, alpha=0.8)#, color='green'\n",
        "plt.xticks(rotation='vertical')\n",
        "plt.xlabel('Date', fontsize=12)\n",
        "plt.ylabel('Number of tweets', fontsize=12)\n",
        "plt.title(\"Number of tweets according to dates\")\n",
        "plt.show()"
      ],
      "execution_count": null,
      "outputs": []
    },
    {
      "cell_type": "code",
      "metadata": {
        "id": "9TniN-X0whbK",
        "outputId": "93d9062e-ca92-4c4a-b656-5802e74330f0",
        "colab": {
          "base_uri": "https://localhost:8080/",
          "height": 425
        }
      },
      "source": [
        "plt.figure(figsize=(14,7))\n",
        "cnt_user_location = train_df['country_code'].value_counts()\n",
        "cnt_user_location.reset_index()\n",
        "cnt_user_location = cnt_user_location[:50,]\n",
        "sns.barplot(cnt_user_location.index, cnt_user_location.values,data=train_df)\n",
        "plt.xticks(rotation='vertical')\n",
        "plt.show()"
      ],
      "execution_count": null,
      "outputs": [
        {
          "output_type": "display_data",
          "data": {
            "image/png": "[encoded data removed]",
            "text/plain": [
              "<Figure size 1008x504 with 1 Axes>"
            ]
          },
          "metadata": {
            "tags": [],
            "needs_background": "light"
          }
        }
      ]
    },
    {
      "cell_type": "code",
      "metadata": {
        "id": "pkC4CTrSyjSL",
        "outputId": "f33d7fb1-c933-4c35-e469-983b71cdf902",
        "colab": {
          "base_uri": "https://localhost:8080/",
          "height": 235
        }
      },
      "source": [
        "train_df['country_code'].value_counts()"
      ],
      "execution_count": null,
      "outputs": [
        {
          "output_type": "execute_result",
          "data": {
            "text/plain": [
              "US    274262\n",
              "GB     82751\n",
              "IN     48789\n",
              "CA     33298\n",
              "NG     15861\n",
              "       ...  \n",
              "GF         1\n",
              "SM         1\n",
              "PN         1\n",
              "KP         1\n",
              "NC         1\n",
              "Name: country_code, Length: 218, dtype: int64"
            ]
          },
          "metadata": {
            "tags": []
          },
          "execution_count": 72
        }
      ]
    },
    {
      "cell_type": "markdown",
      "metadata": {
        "id": "XlDN561skx4O"
      },
      "source": [
        "# **Preprocessing**"
      ]
    },
    {
      "cell_type": "code",
      "metadata": {
        "id": "vWMbawNL--rU",
        "outputId": "9bb60aa6-d61a-418b-b097-1cbe60b8cfbc",
        "colab": {
          "base_uri": "https://localhost:8080/",
          "height": 941
        }
      },
      "source": [
        "train_df"
      ],
      "execution_count": null,
      "outputs": [
        {
          "output_type": "execute_result",
          "data": {
            "text/html": [
              "<div>\n",
              "<style scoped>\n",
              "    .dataframe tbody tr th:only-of-type {\n",
              "        vertical-align: middle;\n",
              "    }\n",
              "\n",
              "    .dataframe tbody tr th {\n",
              "        vertical-align: top;\n",
              "    }\n",
              "\n",
              "    .dataframe thead th {\n",
              "        text-align: right;\n",
              "    }\n",
              "</style>\n",
              "<table border=\"1\" class=\"dataframe\">\n",
              "  <thead>\n",
              "    <tr style=\"text-align: right;\">\n",
              "      <th></th>\n",
              "      <th>user_id</th>\n",
              "      <th>created_at</th>\n",
              "      <th>screen_name</th>\n",
              "      <th>text</th>\n",
              "      <th>source</th>\n",
              "      <th>reply_to_status_id</th>\n",
              "      <th>reply_to_user_id</th>\n",
              "      <th>reply_to_screen_name</th>\n",
              "      <th>is_quote</th>\n",
              "      <th>is_retweet</th>\n",
              "      <th>favourites_count</th>\n",
              "      <th>retweet_count</th>\n",
              "      <th>country_code</th>\n",
              "      <th>place_full_name</th>\n",
              "      <th>place_type</th>\n",
              "      <th>followers_count</th>\n",
              "      <th>friends_count</th>\n",
              "      <th>account_lang</th>\n",
              "      <th>account_created_at</th>\n",
              "      <th>verified</th>\n",
              "      <th>lang</th>\n",
              "      <th>hashtag</th>\n",
              "    </tr>\n",
              "    <tr>\n",
              "      <th>status_id</th>\n",
              "      <th></th>\n",
              "      <th></th>\n",
              "      <th></th>\n",
              "      <th></th>\n",
              "      <th></th>\n",
              "      <th></th>\n",
              "      <th></th>\n",
              "      <th></th>\n",
              "      <th></th>\n",
              "      <th></th>\n",
              "      <th></th>\n",
              "      <th></th>\n",
              "      <th></th>\n",
              "      <th></th>\n",
              "      <th></th>\n",
              "      <th></th>\n",
              "      <th></th>\n",
              "      <th></th>\n",
              "      <th></th>\n",
              "      <th></th>\n",
              "      <th></th>\n",
              "      <th></th>\n",
              "    </tr>\n",
              "  </thead>\n",
              "  <tbody>\n",
              "    <tr>\n",
              "      <th>1240065378094583808</th>\n",
              "      <td>83656373</td>\n",
              "      <td>2020-03-18T00:00:00Z</td>\n",
              "      <td>diimsa</td>\n",
              "      <td>The @DIIMSA Word Challenge: High School (7:00 ...</td>\n",
              "      <td>Twitter for iPhone</td>\n",
              "      <td>NaN</td>\n",
              "      <td>NaN</td>\n",
              "      <td>NaN</td>\n",
              "      <td>False</td>\n",
              "      <td>False</td>\n",
              "      <td>527</td>\n",
              "      <td>0</td>\n",
              "      <td>NaN</td>\n",
              "      <td>NaN</td>\n",
              "      <td>NaN</td>\n",
              "      <td>570</td>\n",
              "      <td>381</td>\n",
              "      <td>NaN</td>\n",
              "      <td>2009-10-19T18:17:10Z</td>\n",
              "      <td>False</td>\n",
              "      <td>en</td>\n",
              "      <td>DIIMSA</td>\n",
              "    </tr>\n",
              "    <tr>\n",
              "      <th>1240065378094583808</th>\n",
              "      <td>83656373</td>\n",
              "      <td>2020-03-18T00:00:00Z</td>\n",
              "      <td>diimsa</td>\n",
              "      <td>The @DIIMSA Word Challenge: High School (7:00 ...</td>\n",
              "      <td>Twitter for iPhone</td>\n",
              "      <td>NaN</td>\n",
              "      <td>NaN</td>\n",
              "      <td>NaN</td>\n",
              "      <td>False</td>\n",
              "      <td>False</td>\n",
              "      <td>527</td>\n",
              "      <td>0</td>\n",
              "      <td>NaN</td>\n",
              "      <td>NaN</td>\n",
              "      <td>NaN</td>\n",
              "      <td>570</td>\n",
              "      <td>381</td>\n",
              "      <td>NaN</td>\n",
              "      <td>2009-10-19T18:17:10Z</td>\n",
              "      <td>False</td>\n",
              "      <td>en</td>\n",
              "      <td>DIIMSAVBOARD</td>\n",
              "    </tr>\n",
              "    <tr>\n",
              "      <th>1240065378094583808</th>\n",
              "      <td>83656373</td>\n",
              "      <td>2020-03-18T00:00:00Z</td>\n",
              "      <td>diimsa</td>\n",
              "      <td>The @DIIMSA Word Challenge: High School (7:00 ...</td>\n",
              "      <td>Twitter for iPhone</td>\n",
              "      <td>NaN</td>\n",
              "      <td>NaN</td>\n",
              "      <td>NaN</td>\n",
              "      <td>False</td>\n",
              "      <td>False</td>\n",
              "      <td>527</td>\n",
              "      <td>0</td>\n",
              "      <td>NaN</td>\n",
              "      <td>NaN</td>\n",
              "      <td>NaN</td>\n",
              "      <td>570</td>\n",
              "      <td>381</td>\n",
              "      <td>NaN</td>\n",
              "      <td>2009-10-19T18:17:10Z</td>\n",
              "      <td>False</td>\n",
              "      <td>en</td>\n",
              "      <td>DIIMSACHALLENGE</td>\n",
              "    </tr>\n",
              "    <tr>\n",
              "      <th>1240065378094583808</th>\n",
              "      <td>83656373</td>\n",
              "      <td>2020-03-18T00:00:00Z</td>\n",
              "      <td>diimsa</td>\n",
              "      <td>The @DIIMSA Word Challenge: High School (7:00 ...</td>\n",
              "      <td>Twitter for iPhone</td>\n",
              "      <td>NaN</td>\n",
              "      <td>NaN</td>\n",
              "      <td>NaN</td>\n",
              "      <td>False</td>\n",
              "      <td>False</td>\n",
              "      <td>527</td>\n",
              "      <td>0</td>\n",
              "      <td>NaN</td>\n",
              "      <td>NaN</td>\n",
              "      <td>NaN</td>\n",
              "      <td>570</td>\n",
              "      <td>381</td>\n",
              "      <td>NaN</td>\n",
              "      <td>2009-10-19T18:17:10Z</td>\n",
              "      <td>False</td>\n",
              "      <td>en</td>\n",
              "      <td>GlobalWarming</td>\n",
              "    </tr>\n",
              "    <tr>\n",
              "      <th>1240065378094583808</th>\n",
              "      <td>83656373</td>\n",
              "      <td>2020-03-18T00:00:00Z</td>\n",
              "      <td>diimsa</td>\n",
              "      <td>The @DIIMSA Word Challenge: High School (7:00 ...</td>\n",
              "      <td>Twitter for iPhone</td>\n",
              "      <td>NaN</td>\n",
              "      <td>NaN</td>\n",
              "      <td>NaN</td>\n",
              "      <td>False</td>\n",
              "      <td>False</td>\n",
              "      <td>527</td>\n",
              "      <td>0</td>\n",
              "      <td>NaN</td>\n",
              "      <td>NaN</td>\n",
              "      <td>NaN</td>\n",
              "      <td>570</td>\n",
              "      <td>381</td>\n",
              "      <td>NaN</td>\n",
              "      <td>2009-10-19T18:17:10Z</td>\n",
              "      <td>False</td>\n",
              "      <td>en</td>\n",
              "      <td>ClimateChange</td>\n",
              "    </tr>\n",
              "    <tr>\n",
              "      <th>...</th>\n",
              "      <td>...</td>\n",
              "      <td>...</td>\n",
              "      <td>...</td>\n",
              "      <td>...</td>\n",
              "      <td>...</td>\n",
              "      <td>...</td>\n",
              "      <td>...</td>\n",
              "      <td>...</td>\n",
              "      <td>...</td>\n",
              "      <td>...</td>\n",
              "      <td>...</td>\n",
              "      <td>...</td>\n",
              "      <td>...</td>\n",
              "      <td>...</td>\n",
              "      <td>...</td>\n",
              "      <td>...</td>\n",
              "      <td>...</td>\n",
              "      <td>...</td>\n",
              "      <td>...</td>\n",
              "      <td>...</td>\n",
              "      <td>...</td>\n",
              "      <td>...</td>\n",
              "    </tr>\n",
              "    <tr>\n",
              "      <th>1240427764311875584</th>\n",
              "      <td>542896760</td>\n",
              "      <td>2020-03-18T23:59:59Z</td>\n",
              "      <td>Bskolle</td>\n",
              "      <td>@scripthacker_ @moeed_azam @SeemaCMS @ASlavitt...</td>\n",
              "      <td>Twitter for iPhone</td>\n",
              "      <td>1.240347e+18</td>\n",
              "      <td>6.968870e+17</td>\n",
              "      <td>scripthacker_</td>\n",
              "      <td>False</td>\n",
              "      <td>False</td>\n",
              "      <td>11019</td>\n",
              "      <td>0</td>\n",
              "      <td>NaN</td>\n",
              "      <td>NaN</td>\n",
              "      <td>NaN</td>\n",
              "      <td>2561</td>\n",
              "      <td>2130</td>\n",
              "      <td>NaN</td>\n",
              "      <td>2012-04-01T22:22:11Z</td>\n",
              "      <td>False</td>\n",
              "      <td>en</td>\n",
              "      <td>coronavirus</td>\n",
              "    </tr>\n",
              "    <tr>\n",
              "      <th>1240427765154938883</th>\n",
              "      <td>84451789</td>\n",
              "      <td>2020-03-18T23:59:59Z</td>\n",
              "      <td>aus_stockreport</td>\n",
              "      <td>HOW IS #COVID19 IS AFFECTING #VirginAustralia?...</td>\n",
              "      <td>HubSpot</td>\n",
              "      <td>NaN</td>\n",
              "      <td>NaN</td>\n",
              "      <td>NaN</td>\n",
              "      <td>False</td>\n",
              "      <td>False</td>\n",
              "      <td>159</td>\n",
              "      <td>0</td>\n",
              "      <td>NaN</td>\n",
              "      <td>NaN</td>\n",
              "      <td>NaN</td>\n",
              "      <td>12274</td>\n",
              "      <td>1414</td>\n",
              "      <td>NaN</td>\n",
              "      <td>2009-10-22T23:26:48Z</td>\n",
              "      <td>False</td>\n",
              "      <td>en</td>\n",
              "      <td>COVID19</td>\n",
              "    </tr>\n",
              "    <tr>\n",
              "      <th>1240427765154938883</th>\n",
              "      <td>84451789</td>\n",
              "      <td>2020-03-18T23:59:59Z</td>\n",
              "      <td>aus_stockreport</td>\n",
              "      <td>HOW IS #COVID19 IS AFFECTING #VirginAustralia?...</td>\n",
              "      <td>HubSpot</td>\n",
              "      <td>NaN</td>\n",
              "      <td>NaN</td>\n",
              "      <td>NaN</td>\n",
              "      <td>False</td>\n",
              "      <td>False</td>\n",
              "      <td>159</td>\n",
              "      <td>0</td>\n",
              "      <td>NaN</td>\n",
              "      <td>NaN</td>\n",
              "      <td>NaN</td>\n",
              "      <td>12274</td>\n",
              "      <td>1414</td>\n",
              "      <td>NaN</td>\n",
              "      <td>2009-10-22T23:26:48Z</td>\n",
              "      <td>False</td>\n",
              "      <td>en</td>\n",
              "      <td>VirginAustralia</td>\n",
              "    </tr>\n",
              "    <tr>\n",
              "      <th>1240427765192708096</th>\n",
              "      <td>387771247</td>\n",
              "      <td>2020-03-18T23:59:59Z</td>\n",
              "      <td>morse22580</td>\n",
              "      <td>@realDonaldTrump should get banks to all agree...</td>\n",
              "      <td>Twitter for Android</td>\n",
              "      <td>NaN</td>\n",
              "      <td>2.507388e+07</td>\n",
              "      <td>realDonaldTrump</td>\n",
              "      <td>False</td>\n",
              "      <td>False</td>\n",
              "      <td>7960</td>\n",
              "      <td>0</td>\n",
              "      <td>US</td>\n",
              "      <td>Mount Laurel, NJ</td>\n",
              "      <td>city</td>\n",
              "      <td>503</td>\n",
              "      <td>1060</td>\n",
              "      <td>NaN</td>\n",
              "      <td>2011-10-09T16:57:45Z</td>\n",
              "      <td>False</td>\n",
              "      <td>en</td>\n",
              "      <td>coronavirus</td>\n",
              "    </tr>\n",
              "    <tr>\n",
              "      <th>1240427765192708096</th>\n",
              "      <td>387771247</td>\n",
              "      <td>2020-03-18T23:59:59Z</td>\n",
              "      <td>morse22580</td>\n",
              "      <td>@realDonaldTrump should get banks to all agree...</td>\n",
              "      <td>Twitter for Android</td>\n",
              "      <td>NaN</td>\n",
              "      <td>2.507388e+07</td>\n",
              "      <td>realDonaldTrump</td>\n",
              "      <td>False</td>\n",
              "      <td>False</td>\n",
              "      <td>7960</td>\n",
              "      <td>0</td>\n",
              "      <td>US</td>\n",
              "      <td>Mount Laurel, NJ</td>\n",
              "      <td>city</td>\n",
              "      <td>503</td>\n",
              "      <td>1060</td>\n",
              "      <td>NaN</td>\n",
              "      <td>2011-10-09T16:57:45Z</td>\n",
              "      <td>False</td>\n",
              "      <td>en</td>\n",
              "      <td>AmericaFirst</td>\n",
              "    </tr>\n",
              "  </tbody>\n",
              "</table>\n",
              "<p>983320 rows × 22 columns</p>\n",
              "</div>"
            ],
            "text/plain": [
              "                       user_id            created_at  ... lang          hashtag\n",
              "status_id                                             ...                      \n",
              "1240065378094583808   83656373  2020-03-18T00:00:00Z  ...   en           DIIMSA\n",
              "1240065378094583808   83656373  2020-03-18T00:00:00Z  ...   en     DIIMSAVBOARD\n",
              "1240065378094583808   83656373  2020-03-18T00:00:00Z  ...   en  DIIMSACHALLENGE\n",
              "1240065378094583808   83656373  2020-03-18T00:00:00Z  ...   en    GlobalWarming\n",
              "1240065378094583808   83656373  2020-03-18T00:00:00Z  ...   en    ClimateChange\n",
              "...                        ...                   ...  ...  ...              ...\n",
              "1240427764311875584  542896760  2020-03-18T23:59:59Z  ...   en      coronavirus\n",
              "1240427765154938883   84451789  2020-03-18T23:59:59Z  ...   en          COVID19\n",
              "1240427765154938883   84451789  2020-03-18T23:59:59Z  ...   en  VirginAustralia\n",
              "1240427765192708096  387771247  2020-03-18T23:59:59Z  ...   en      coronavirus\n",
              "1240427765192708096  387771247  2020-03-18T23:59:59Z  ...   en     AmericaFirst\n",
              "\n",
              "[983320 rows x 22 columns]"
            ]
          },
          "metadata": {
            "tags": []
          },
          "execution_count": 12
        }
      ]
    },
    {
      "cell_type": "code",
      "metadata": {
        "id": "emk7C6GfuE6M",
        "outputId": "a36b8bf9-b644-46be-c857-839d77e5fb24",
        "colab": {
          "base_uri": "https://localhost:8080/",
          "height": 199
        }
      },
      "source": [
        "import nltk\n",
        "nltk.download('punkt')\n",
        "nltk.download('wordnet')\n",
        "nltk.download('stopwords')\n",
        "nltk.download('averaged_perceptron_tagger')"
      ],
      "execution_count": null,
      "outputs": [
        {
          "output_type": "stream",
          "text": [
            "[nltk_data] Downloading package punkt to /root/nltk_data...\n",
            "[nltk_data]   Unzipping tokenizers/punkt.zip.\n",
            "[nltk_data] Downloading package wordnet to /root/nltk_data...\n",
            "[nltk_data]   Unzipping corpora/wordnet.zip.\n",
            "[nltk_data] Downloading package stopwords to /root/nltk_data...\n",
            "[nltk_data]   Unzipping corpora/stopwords.zip.\n",
            "[nltk_data] Downloading package averaged_perceptron_tagger to\n",
            "[nltk_data]     /root/nltk_data...\n",
            "[nltk_data]   Unzipping taggers/averaged_perceptron_tagger.zip.\n"
          ],
          "name": "stdout"
        },
        {
          "output_type": "execute_result",
          "data": {
            "text/plain": [
              "True"
            ]
          },
          "metadata": {
            "tags": []
          },
          "execution_count": 7
        }
      ]
    },
    {
      "cell_type": "code",
      "metadata": {
        "id": "aJd-EkEMt4B3",
        "outputId": "5d25c546-82d0-4bbc-b833-b7d24afc9231",
        "colab": {
          "base_uri": "https://localhost:8080/",
          "height": 346
        }
      },
      "source": [
        "import nltk\n",
        "import string\n",
        "from nltk.tokenize import word_tokenize\n",
        "from nltk.stem import WordNetLemmatizer\n",
        "from nltk.corpus import stopwords\n",
        "from nltk.corpus import wordnet\n",
        "\n",
        "!pip install contractions\n",
        "import contractions\n",
        "\n",
        "wordnet_lemmatizer = WordNetLemmatizer()\n",
        "lemmatizer = nltk.stem.WordNetLemmatizer()\n",
        "\n"
      ],
      "execution_count": null,
      "outputs": [
        {
          "output_type": "stream",
          "text": [
            "Collecting contractions\n",
            "  Downloading https://files.pythonhosted.org/packages/85/41/c3dfd5feb91a8d587ed1a59f553f07c05f95ad4e5d00ab78702fbf8fe48a/contractions-0.0.24-py2.py3-none-any.whl\n",
            "Collecting textsearch\n",
            "  Downloading https://files.pythonhosted.org/packages/42/a8/03407021f9555043de5492a2bd7a35c56cc03c2510092b5ec018cae1bbf1/textsearch-0.0.17-py2.py3-none-any.whl\n",
            "Collecting pyahocorasick\n",
            "\u001b[?25l  Downloading https://files.pythonhosted.org/packages/f4/9f/f0d8e8850e12829eea2e778f1c90e3c53a9a799b7f412082a5d21cd19ae1/pyahocorasick-1.4.0.tar.gz (312kB)\n",
            "\u001b[K     |████████████████████████████████| 317kB 7.6MB/s \n",
            "\u001b[?25hCollecting Unidecode\n",
            "\u001b[?25l  Downloading https://files.pythonhosted.org/packages/d0/42/d9edfed04228bacea2d824904cae367ee9efd05e6cce7ceaaedd0b0ad964/Unidecode-1.1.1-py2.py3-none-any.whl (238kB)\n",
            "\u001b[K     |████████████████████████████████| 245kB 16.8MB/s \n",
            "\u001b[?25hBuilding wheels for collected packages: pyahocorasick\n",
            "  Building wheel for pyahocorasick (setup.py) ... \u001b[?25l\u001b[?25hdone\n",
            "  Created wheel for pyahocorasick: filename=pyahocorasick-1.4.0-cp36-cp36m-linux_x86_64.whl size=81698 sha256=558ae9e2f4e4d47ec7cd411b4a2ad426da8c6417aadb6e535d8d6dbbb1d55006\n",
            "  Stored in directory: /root/.cache/pip/wheels/0a/90/61/87a55f5b459792fbb2b7ba6b31721b06ff5cf6bde541b40994\n",
            "Successfully built pyahocorasick\n",
            "Installing collected packages: pyahocorasick, Unidecode, textsearch, contractions\n",
            "Successfully installed Unidecode-1.1.1 contractions-0.0.24 pyahocorasick-1.4.0 textsearch-0.0.17\n"
          ],
          "name": "stdout"
        }
      ]
    },
    {
      "cell_type": "code",
      "metadata": {
        "id": "XIT9IrFIk3t2"
      },
      "source": [
        "def preprocess_tweet(tweet):\n",
        "\t#Preprocess the text in a single tweet\n",
        "\t#arguments: tweet = a single tweet in form of string \n",
        "\t#convert the tweet to lower case\n",
        "\ttweet.lower()\n",
        "\t#convert all urls to sting \"URL\"\n",
        "\ttweet = re.sub('((www\\.[^\\s]+)|(https?://[^\\s]+))','',tweet)\n",
        "\t#convert all @username to \"AT_USER\"\n",
        "\ttweet = re.sub('@[^\\s]+','', tweet)\n",
        "\t#correct all multiple white spaces to a single white space\n",
        "\ttweet = re.sub('[\\s]+', ' ', tweet)\n",
        "\t#convert \"#topic\" to just \"topic\"\n",
        "\ttweet = re.sub(r'#([^\\s]+)', r'\\1', tweet)\n",
        "\treturn tweet"
      ],
      "execution_count": null,
      "outputs": []
    },
    {
      "cell_type": "code",
      "metadata": {
        "id": "NBGLIsBU8mix"
      },
      "source": [
        "stop = stopwords.words('english')\n",
        "punctuations = string.punctuation  #\"?:!.,;\"\n",
        "identifiers=[\"the\", \"a\", \"an\",\"The\",\"A\",\"An\"]\n",
        "\n",
        "def remove_punctuations_stopword(tweet):\n",
        "  \"\"\"expand shortened words, e.g. don't to do not\"\"\" #Expand Contractions\n",
        "  #tweet = contractions.fix(tweet)\n",
        "  Sent_Token=[]\n",
        "  [Sent_Token.append(word) for word in nltk.word_tokenize(tweet) if (word not in identifiers) and (word not in punctuations)]\n",
        "  return ' '.join(Sent_Token)"
      ],
      "execution_count": null,
      "outputs": []
    },
    {
      "cell_type": "code",
      "metadata": {
        "id": "2urGOIzLtIZU"
      },
      "source": [
        "import re\n",
        "train_df['text'] = train_df['text'].apply(preprocess_tweet)\n",
        "train_df['text'] = train_df['text'].apply(remove_punctuations_stopword)\n"
      ],
      "execution_count": null,
      "outputs": []
    },
    {
      "cell_type": "code",
      "metadata": {
        "id": "GVb6_wsw2Qx5",
        "outputId": "3aaf9345-4393-4169-cd5f-f56baf029ea6",
        "colab": {
          "base_uri": "https://localhost:8080/",
          "height": 254
        }
      },
      "source": [
        "train_df['text']"
      ],
      "execution_count": null,
      "outputs": [
        {
          "output_type": "execute_result",
          "data": {
            "text/plain": [
              "status_id\n",
              "1240065378568392704    We have dedicated section of to COVID19 where ...\n",
              "1240065378644045826    Did you have tickets Elton John has postponed ...\n",
              "1240065378648313859    Governors across all 50 states have declared e...\n",
              "1240065378740580353    has developed COVID19 Resource Dashboard in or...\n",
              "1240065378841026560    scientific community 's message to young Ameri...\n",
              "                                             ...                        \n",
              "1240427755323490304    For post-foreclosure/pre-REO houses what prope...\n",
              "1240427755436560384    Every day in pandemic feels like week We are a...\n",
              "1240427759710736384    I feel like I 'm gon na freak out if I do or d...\n",
              "1240427761040101376    U.S. exporting COVID19 to Mexico as cracks dow...\n",
              "1240427763292667906    Nice to see Unfortunate circumstances though y...\n",
              "Name: text, Length: 107591, dtype: object"
            ]
          },
          "metadata": {
            "tags": []
          },
          "execution_count": 30
        }
      ]
    },
    {
      "cell_type": "code",
      "metadata": {
        "id": "yjxeVfpYLFQJ",
        "outputId": "4215c883-3005-4033-e446-19da663fe913",
        "colab": {
          "base_uri": "https://localhost:8080/",
          "height": 697
        }
      },
      "source": [
        "train_df.head()"
      ],
      "execution_count": null,
      "outputs": [
        {
          "output_type": "execute_result",
          "data": {
            "text/html": [
              "<div>\n",
              "<style scoped>\n",
              "    .dataframe tbody tr th:only-of-type {\n",
              "        vertical-align: middle;\n",
              "    }\n",
              "\n",
              "    .dataframe tbody tr th {\n",
              "        vertical-align: top;\n",
              "    }\n",
              "\n",
              "    .dataframe thead th {\n",
              "        text-align: right;\n",
              "    }\n",
              "</style>\n",
              "<table border=\"1\" class=\"dataframe\">\n",
              "  <thead>\n",
              "    <tr style=\"text-align: right;\">\n",
              "      <th></th>\n",
              "      <th>user_id</th>\n",
              "      <th>created_at</th>\n",
              "      <th>screen_name</th>\n",
              "      <th>text</th>\n",
              "      <th>source</th>\n",
              "      <th>reply_to_status_id</th>\n",
              "      <th>reply_to_user_id</th>\n",
              "      <th>reply_to_screen_name</th>\n",
              "      <th>is_quote</th>\n",
              "      <th>is_retweet</th>\n",
              "      <th>favourites_count</th>\n",
              "      <th>retweet_count</th>\n",
              "      <th>country_code</th>\n",
              "      <th>place_full_name</th>\n",
              "      <th>place_type</th>\n",
              "      <th>followers_count</th>\n",
              "      <th>friends_count</th>\n",
              "      <th>account_lang</th>\n",
              "      <th>account_created_at</th>\n",
              "      <th>verified</th>\n",
              "      <th>lang</th>\n",
              "      <th>hashtag</th>\n",
              "    </tr>\n",
              "    <tr>\n",
              "      <th>status_id</th>\n",
              "      <th></th>\n",
              "      <th></th>\n",
              "      <th></th>\n",
              "      <th></th>\n",
              "      <th></th>\n",
              "      <th></th>\n",
              "      <th></th>\n",
              "      <th></th>\n",
              "      <th></th>\n",
              "      <th></th>\n",
              "      <th></th>\n",
              "      <th></th>\n",
              "      <th></th>\n",
              "      <th></th>\n",
              "      <th></th>\n",
              "      <th></th>\n",
              "      <th></th>\n",
              "      <th></th>\n",
              "      <th></th>\n",
              "      <th></th>\n",
              "      <th></th>\n",
              "      <th></th>\n",
              "    </tr>\n",
              "  </thead>\n",
              "  <tbody>\n",
              "    <tr>\n",
              "      <th>1240065378568392704</th>\n",
              "      <td>20629645</td>\n",
              "      <td>2020-03-18T00:00:00Z</td>\n",
              "      <td>CNYCentral</td>\n",
              "      <td>We have dedicated section of to COVID19 where ...</td>\n",
              "      <td>TweetDeck</td>\n",
              "      <td>NaN</td>\n",
              "      <td>NaN</td>\n",
              "      <td>NaN</td>\n",
              "      <td>False</td>\n",
              "      <td>False</td>\n",
              "      <td>8695</td>\n",
              "      <td>0</td>\n",
              "      <td>NaN</td>\n",
              "      <td>NaN</td>\n",
              "      <td>NaN</td>\n",
              "      <td>82884</td>\n",
              "      <td>975</td>\n",
              "      <td>NaN</td>\n",
              "      <td>2009-02-11T21:24:27Z</td>\n",
              "      <td>True</td>\n",
              "      <td>en</td>\n",
              "      <td>COVID19</td>\n",
              "    </tr>\n",
              "    <tr>\n",
              "      <th>1240065378644045826</th>\n",
              "      <td>218565801</td>\n",
              "      <td>2020-03-18T00:00:00Z</td>\n",
              "      <td>Global_Montreal</td>\n",
              "      <td>Did you have tickets Elton John has postponed ...</td>\n",
              "      <td>TweetDeck</td>\n",
              "      <td>NaN</td>\n",
              "      <td>NaN</td>\n",
              "      <td>NaN</td>\n",
              "      <td>False</td>\n",
              "      <td>False</td>\n",
              "      <td>6717</td>\n",
              "      <td>0</td>\n",
              "      <td>NaN</td>\n",
              "      <td>NaN</td>\n",
              "      <td>NaN</td>\n",
              "      <td>51412</td>\n",
              "      <td>1019</td>\n",
              "      <td>NaN</td>\n",
              "      <td>2010-11-22T17:45:06Z</td>\n",
              "      <td>True</td>\n",
              "      <td>en</td>\n",
              "      <td>coronavirus</td>\n",
              "    </tr>\n",
              "    <tr>\n",
              "      <th>1240065378648313859</th>\n",
              "      <td>243811680</td>\n",
              "      <td>2020-03-18T00:00:00Z</td>\n",
              "      <td>CBS4Local</td>\n",
              "      <td>Governors across all 50 states have declared e...</td>\n",
              "      <td>TweetDeck</td>\n",
              "      <td>NaN</td>\n",
              "      <td>NaN</td>\n",
              "      <td>NaN</td>\n",
              "      <td>False</td>\n",
              "      <td>False</td>\n",
              "      <td>494</td>\n",
              "      <td>0</td>\n",
              "      <td>NaN</td>\n",
              "      <td>NaN</td>\n",
              "      <td>NaN</td>\n",
              "      <td>13015</td>\n",
              "      <td>510</td>\n",
              "      <td>NaN</td>\n",
              "      <td>2011-01-27T21:33:02Z</td>\n",
              "      <td>True</td>\n",
              "      <td>en</td>\n",
              "      <td>coronavirus</td>\n",
              "    </tr>\n",
              "    <tr>\n",
              "      <th>1240065378740580353</th>\n",
              "      <td>22641237</td>\n",
              "      <td>2020-03-18T00:00:00Z</td>\n",
              "      <td>knoxchamber</td>\n",
              "      <td>has developed COVID19 Resource Dashboard in or...</td>\n",
              "      <td>Twitter Ads</td>\n",
              "      <td>NaN</td>\n",
              "      <td>NaN</td>\n",
              "      <td>NaN</td>\n",
              "      <td>False</td>\n",
              "      <td>False</td>\n",
              "      <td>3327</td>\n",
              "      <td>1</td>\n",
              "      <td>NaN</td>\n",
              "      <td>NaN</td>\n",
              "      <td>NaN</td>\n",
              "      <td>14110</td>\n",
              "      <td>978</td>\n",
              "      <td>NaN</td>\n",
              "      <td>2009-03-03T16:26:49Z</td>\n",
              "      <td>False</td>\n",
              "      <td>en</td>\n",
              "      <td>COVID19</td>\n",
              "    </tr>\n",
              "    <tr>\n",
              "      <th>1240065378841026560</th>\n",
              "      <td>20605323</td>\n",
              "      <td>2020-03-18T00:00:00Z</td>\n",
              "      <td>KTVOTV</td>\n",
              "      <td>scientific community 's message to young Ameri...</td>\n",
              "      <td>TweetDeck</td>\n",
              "      <td>NaN</td>\n",
              "      <td>NaN</td>\n",
              "      <td>NaN</td>\n",
              "      <td>False</td>\n",
              "      <td>False</td>\n",
              "      <td>164</td>\n",
              "      <td>0</td>\n",
              "      <td>NaN</td>\n",
              "      <td>NaN</td>\n",
              "      <td>NaN</td>\n",
              "      <td>9106</td>\n",
              "      <td>987</td>\n",
              "      <td>NaN</td>\n",
              "      <td>2009-02-11T17:37:33Z</td>\n",
              "      <td>True</td>\n",
              "      <td>en</td>\n",
              "      <td>COVID19</td>\n",
              "    </tr>\n",
              "  </tbody>\n",
              "</table>\n",
              "</div>"
            ],
            "text/plain": [
              "                       user_id            created_at  ... lang      hashtag\n",
              "status_id                                             ...                  \n",
              "1240065378568392704   20629645  2020-03-18T00:00:00Z  ...   en      COVID19\n",
              "1240065378644045826  218565801  2020-03-18T00:00:00Z  ...   en  coronavirus\n",
              "1240065378648313859  243811680  2020-03-18T00:00:00Z  ...   en  coronavirus\n",
              "1240065378740580353   22641237  2020-03-18T00:00:00Z  ...   en      COVID19\n",
              "1240065378841026560   20605323  2020-03-18T00:00:00Z  ...   en      COVID19\n",
              "\n",
              "[5 rows x 22 columns]"
            ]
          },
          "metadata": {
            "tags": []
          },
          "execution_count": 31
        }
      ]
    },
    {
      "cell_type": "markdown",
      "metadata": {
        "id": "Hm8p-WKracu9"
      },
      "source": [
        "# **Simplifying Sentiment Analysis using VADER**\n",
        "https://medium.com/analytics-vidhya/simplifying-social-media-sentiment-analysis-using-vader-in-python-f9e6ec6fc52f"
      ]
    },
    {
      "cell_type": "code",
      "metadata": {
        "id": "veNRgB_9TO8W",
        "outputId": "2ffc35fc-54f5-43e3-eabe-b4a805761180",
        "colab": {
          "base_uri": "https://localhost:8080/",
          "height": 52
        }
      },
      "source": [
        "import nltk\n",
        "nltk.download('vader_lexicon')"
      ],
      "execution_count": null,
      "outputs": [
        {
          "output_type": "stream",
          "text": [
            "[nltk_data] Downloading package vader_lexicon to /root/nltk_data...\n"
          ],
          "name": "stdout"
        },
        {
          "output_type": "execute_result",
          "data": {
            "text/plain": [
              "True"
            ]
          },
          "metadata": {
            "tags": []
          },
          "execution_count": 1
        }
      ]
    },
    {
      "cell_type": "code",
      "metadata": {
        "id": "T2dOLaW-RiBX",
        "outputId": "c0e717f6-2561-43ad-daba-8cabe3a7d72d",
        "colab": {
          "base_uri": "https://localhost:8080/",
          "height": 55
        }
      },
      "source": [
        "from nltk.sentiment.vader import SentimentIntensityAnalyzer\n",
        "from nltk.sentiment.util import *\n",
        "\n",
        "from nltk import tokenize\n",
        "\n",
        "sid = SentimentIntensityAnalyzer()\n",
        "\n",
        "train_df['sentiment_compound_polarity']=train_df.text.apply(lambda x:sid.polarity_scores(x)['compound'])\n",
        "train_df['sentiment_neutral']=train_df.text.apply(lambda x:sid.polarity_scores(x)['neu'])\n",
        "train_df['sentiment_negative']=train_df.text.apply(lambda x:sid.polarity_scores(x)['neg'])\n",
        "train_df['sentiment_pos']=train_df.text.apply(lambda x:sid.polarity_scores(x)['pos'])\n",
        "train_df['sentimentType']=''\n",
        "'''\n",
        "train_df.loc[train_df.sentiment_compound_polarity>0,'sentiment_type']='POSITIVE'\n",
        "train_df.loc[train_df.sentiment_compound_polarity==0,'sentiment_type']='NEUTRAL'\n",
        "train_df.loc[train_df.sentiment_compound_polarity<0,'sentiment_type']='NEGATIVE'\n",
        "train_df.head()\n",
        "'''\n"
      ],
      "execution_count": null,
      "outputs": [
        {
          "output_type": "execute_result",
          "data": {
            "text/plain": [
              "\"\\ntrain_df.loc[train_df.sentiment_compound_polarity>0,'sentiment_type']='POSITIVE'\\ntrain_df.loc[train_df.sentiment_compound_polarity==0,'sentiment_type']='NEUTRAL'\\ntrain_df.loc[train_df.sentiment_compound_polarity<0,'sentiment_type']='NEGATIVE'\\ntrain_df.head()\\n\""
            ]
          },
          "metadata": {
            "tags": []
          },
          "execution_count": 32
        }
      ]
    },
    {
      "cell_type": "code",
      "metadata": {
        "id": "eUsS4dD8NCm1"
      },
      "source": [
        "\n",
        "train_df['sentimentType'] = train_df['sentiment_compound_polarity'].apply(lambda x: 'Positive' if x>0  else ( 'Neutral' if x == 0 else 'Negative')  )"
      ],
      "execution_count": null,
      "outputs": []
    },
    {
      "cell_type": "code",
      "metadata": {
        "id": "PkZG08Hl0gmU",
        "outputId": "1410353a-60d8-47dd-dc2b-87912297d3e2",
        "colab": {
          "base_uri": "https://localhost:8080/",
          "height": 766
        }
      },
      "source": [
        "train_df.head()"
      ],
      "execution_count": null,
      "outputs": [
        {
          "output_type": "execute_result",
          "data": {
            "text/html": [
              "<div>\n",
              "<style scoped>\n",
              "    .dataframe tbody tr th:only-of-type {\n",
              "        vertical-align: middle;\n",
              "    }\n",
              "\n",
              "    .dataframe tbody tr th {\n",
              "        vertical-align: top;\n",
              "    }\n",
              "\n",
              "    .dataframe thead th {\n",
              "        text-align: right;\n",
              "    }\n",
              "</style>\n",
              "<table border=\"1\" class=\"dataframe\">\n",
              "  <thead>\n",
              "    <tr style=\"text-align: right;\">\n",
              "      <th></th>\n",
              "      <th>user_id</th>\n",
              "      <th>created_at</th>\n",
              "      <th>screen_name</th>\n",
              "      <th>text</th>\n",
              "      <th>source</th>\n",
              "      <th>reply_to_status_id</th>\n",
              "      <th>reply_to_user_id</th>\n",
              "      <th>reply_to_screen_name</th>\n",
              "      <th>is_quote</th>\n",
              "      <th>is_retweet</th>\n",
              "      <th>favourites_count</th>\n",
              "      <th>retweet_count</th>\n",
              "      <th>country_code</th>\n",
              "      <th>place_full_name</th>\n",
              "      <th>place_type</th>\n",
              "      <th>followers_count</th>\n",
              "      <th>friends_count</th>\n",
              "      <th>account_lang</th>\n",
              "      <th>account_created_at</th>\n",
              "      <th>verified</th>\n",
              "      <th>lang</th>\n",
              "      <th>hashtag</th>\n",
              "      <th>sentiment_compound_polarity</th>\n",
              "      <th>sentiment_neutral</th>\n",
              "      <th>sentiment_negative</th>\n",
              "      <th>sentiment_pos</th>\n",
              "      <th>sentimentType</th>\n",
              "    </tr>\n",
              "    <tr>\n",
              "      <th>status_id</th>\n",
              "      <th></th>\n",
              "      <th></th>\n",
              "      <th></th>\n",
              "      <th></th>\n",
              "      <th></th>\n",
              "      <th></th>\n",
              "      <th></th>\n",
              "      <th></th>\n",
              "      <th></th>\n",
              "      <th></th>\n",
              "      <th></th>\n",
              "      <th></th>\n",
              "      <th></th>\n",
              "      <th></th>\n",
              "      <th></th>\n",
              "      <th></th>\n",
              "      <th></th>\n",
              "      <th></th>\n",
              "      <th></th>\n",
              "      <th></th>\n",
              "      <th></th>\n",
              "      <th></th>\n",
              "      <th></th>\n",
              "      <th></th>\n",
              "      <th></th>\n",
              "      <th></th>\n",
              "      <th></th>\n",
              "    </tr>\n",
              "  </thead>\n",
              "  <tbody>\n",
              "    <tr>\n",
              "      <th>1240065378094583808</th>\n",
              "      <td>83656373</td>\n",
              "      <td>2020-03-18T00:00:00Z</td>\n",
              "      <td>diimsa</td>\n",
              "      <td>The @DIIMSA Word Challenge: High School (7:00 ...</td>\n",
              "      <td>Twitter for iPhone</td>\n",
              "      <td>NaN</td>\n",
              "      <td>NaN</td>\n",
              "      <td>NaN</td>\n",
              "      <td>False</td>\n",
              "      <td>False</td>\n",
              "      <td>527</td>\n",
              "      <td>0</td>\n",
              "      <td>NaN</td>\n",
              "      <td>NaN</td>\n",
              "      <td>NaN</td>\n",
              "      <td>570</td>\n",
              "      <td>381</td>\n",
              "      <td>NaN</td>\n",
              "      <td>2009-10-19T18:17:10Z</td>\n",
              "      <td>False</td>\n",
              "      <td>en</td>\n",
              "      <td>DIIMSA</td>\n",
              "      <td>0.0772</td>\n",
              "      <td>0.942</td>\n",
              "      <td>0.0</td>\n",
              "      <td>0.058</td>\n",
              "      <td>Positive</td>\n",
              "    </tr>\n",
              "    <tr>\n",
              "      <th>1240065378094583808</th>\n",
              "      <td>83656373</td>\n",
              "      <td>2020-03-18T00:00:00Z</td>\n",
              "      <td>diimsa</td>\n",
              "      <td>The @DIIMSA Word Challenge: High School (7:00 ...</td>\n",
              "      <td>Twitter for iPhone</td>\n",
              "      <td>NaN</td>\n",
              "      <td>NaN</td>\n",
              "      <td>NaN</td>\n",
              "      <td>False</td>\n",
              "      <td>False</td>\n",
              "      <td>527</td>\n",
              "      <td>0</td>\n",
              "      <td>NaN</td>\n",
              "      <td>NaN</td>\n",
              "      <td>NaN</td>\n",
              "      <td>570</td>\n",
              "      <td>381</td>\n",
              "      <td>NaN</td>\n",
              "      <td>2009-10-19T18:17:10Z</td>\n",
              "      <td>False</td>\n",
              "      <td>en</td>\n",
              "      <td>DIIMSAVBOARD</td>\n",
              "      <td>0.0772</td>\n",
              "      <td>0.942</td>\n",
              "      <td>0.0</td>\n",
              "      <td>0.058</td>\n",
              "      <td>Positive</td>\n",
              "    </tr>\n",
              "    <tr>\n",
              "      <th>1240065378094583808</th>\n",
              "      <td>83656373</td>\n",
              "      <td>2020-03-18T00:00:00Z</td>\n",
              "      <td>diimsa</td>\n",
              "      <td>The @DIIMSA Word Challenge: High School (7:00 ...</td>\n",
              "      <td>Twitter for iPhone</td>\n",
              "      <td>NaN</td>\n",
              "      <td>NaN</td>\n",
              "      <td>NaN</td>\n",
              "      <td>False</td>\n",
              "      <td>False</td>\n",
              "      <td>527</td>\n",
              "      <td>0</td>\n",
              "      <td>NaN</td>\n",
              "      <td>NaN</td>\n",
              "      <td>NaN</td>\n",
              "      <td>570</td>\n",
              "      <td>381</td>\n",
              "      <td>NaN</td>\n",
              "      <td>2009-10-19T18:17:10Z</td>\n",
              "      <td>False</td>\n",
              "      <td>en</td>\n",
              "      <td>DIIMSACHALLENGE</td>\n",
              "      <td>0.0772</td>\n",
              "      <td>0.942</td>\n",
              "      <td>0.0</td>\n",
              "      <td>0.058</td>\n",
              "      <td>Positive</td>\n",
              "    </tr>\n",
              "    <tr>\n",
              "      <th>1240065378094583808</th>\n",
              "      <td>83656373</td>\n",
              "      <td>2020-03-18T00:00:00Z</td>\n",
              "      <td>diimsa</td>\n",
              "      <td>The @DIIMSA Word Challenge: High School (7:00 ...</td>\n",
              "      <td>Twitter for iPhone</td>\n",
              "      <td>NaN</td>\n",
              "      <td>NaN</td>\n",
              "      <td>NaN</td>\n",
              "      <td>False</td>\n",
              "      <td>False</td>\n",
              "      <td>527</td>\n",
              "      <td>0</td>\n",
              "      <td>NaN</td>\n",
              "      <td>NaN</td>\n",
              "      <td>NaN</td>\n",
              "      <td>570</td>\n",
              "      <td>381</td>\n",
              "      <td>NaN</td>\n",
              "      <td>2009-10-19T18:17:10Z</td>\n",
              "      <td>False</td>\n",
              "      <td>en</td>\n",
              "      <td>GlobalWarming</td>\n",
              "      <td>0.0772</td>\n",
              "      <td>0.942</td>\n",
              "      <td>0.0</td>\n",
              "      <td>0.058</td>\n",
              "      <td>Positive</td>\n",
              "    </tr>\n",
              "    <tr>\n",
              "      <th>1240065378094583808</th>\n",
              "      <td>83656373</td>\n",
              "      <td>2020-03-18T00:00:00Z</td>\n",
              "      <td>diimsa</td>\n",
              "      <td>The @DIIMSA Word Challenge: High School (7:00 ...</td>\n",
              "      <td>Twitter for iPhone</td>\n",
              "      <td>NaN</td>\n",
              "      <td>NaN</td>\n",
              "      <td>NaN</td>\n",
              "      <td>False</td>\n",
              "      <td>False</td>\n",
              "      <td>527</td>\n",
              "      <td>0</td>\n",
              "      <td>NaN</td>\n",
              "      <td>NaN</td>\n",
              "      <td>NaN</td>\n",
              "      <td>570</td>\n",
              "      <td>381</td>\n",
              "      <td>NaN</td>\n",
              "      <td>2009-10-19T18:17:10Z</td>\n",
              "      <td>False</td>\n",
              "      <td>en</td>\n",
              "      <td>ClimateChange</td>\n",
              "      <td>0.0772</td>\n",
              "      <td>0.942</td>\n",
              "      <td>0.0</td>\n",
              "      <td>0.058</td>\n",
              "      <td>Positive</td>\n",
              "    </tr>\n",
              "  </tbody>\n",
              "</table>\n",
              "</div>"
            ],
            "text/plain": [
              "                      user_id  ... sentimentType\n",
              "status_id                      ...              \n",
              "1240065378094583808  83656373  ...      Positive\n",
              "1240065378094583808  83656373  ...      Positive\n",
              "1240065378094583808  83656373  ...      Positive\n",
              "1240065378094583808  83656373  ...      Positive\n",
              "1240065378094583808  83656373  ...      Positive\n",
              "\n",
              "[5 rows x 27 columns]"
            ]
          },
          "metadata": {
            "tags": []
          },
          "execution_count": 16
        }
      ]
    },
    {
      "cell_type": "markdown",
      "metadata": {
        "id": "kLenDSd5th5B"
      },
      "source": [
        ""
      ]
    },
    {
      "cell_type": "code",
      "metadata": {
        "id": "7XUacVtLcP_2",
        "outputId": "150cbfc0-d20d-429d-e2db-16f780612b4b",
        "colab": {
          "base_uri": "https://localhost:8080/",
          "height": 335
        }
      },
      "source": [
        "train_df.sentimentType.value_counts().plot(kind='bar',title=\"sentiment analysis\",color='green')"
      ],
      "execution_count": null,
      "outputs": [
        {
          "output_type": "execute_result",
          "data": {
            "text/plain": [
              "<matplotlib.axes._subplots.AxesSubplot at 0x7f890e108898>"
            ]
          },
          "metadata": {
            "tags": []
          },
          "execution_count": 34
        },
        {
          "output_type": "display_data",
          "data": {
            "image/png": "[encoded data removed]",
            "text/plain": [
              "<Figure size 432x288 with 1 Axes>"
            ]
          },
          "metadata": {
            "tags": [],
            "needs_background": "light"
          }
        }
      ]
    },
    {
      "cell_type": "code",
      "metadata": {
        "id": "cvM5_KVdK5cT",
        "outputId": "dcfc10d9-2528-4525-8453-d9f384dd6c0c",
        "colab": {
          "base_uri": "https://localhost:8080/",
          "height": 90
        }
      },
      "source": [
        "print(train_df.sentimentType.value_counts())"
      ],
      "execution_count": null,
      "outputs": [
        {
          "output_type": "stream",
          "text": [
            "Positive    44321\n",
            "Negative    38082\n",
            "Neutral     25188\n",
            "Name: sentimentType, dtype: int64\n"
          ],
          "name": "stdout"
        }
      ]
    },
    {
      "cell_type": "code",
      "metadata": {
        "id": "zvyo3OOWihqF",
        "outputId": "381c7bff-12ff-461f-c6d3-3defb59d0193",
        "colab": {
          "base_uri": "https://localhost:8080/",
          "height": 35
        }
      },
      "source": [
        "print(\"Train shape : \"+str(train_df.shape))"
      ],
      "execution_count": null,
      "outputs": [
        {
          "output_type": "stream",
          "text": [
            "Train shape : (107591, 27)\n"
          ],
          "name": "stdout"
        }
      ]
    },
    {
      "cell_type": "code",
      "metadata": {
        "id": "knOJzfacbb-m"
      },
      "source": [
        "#it work without these lines\n",
        "train_df.columns\n",
        "for i in range(0,len(train_df)):\n",
        "  print (train_df.iloc[i])"
      ],
      "execution_count": null,
      "outputs": []
    },
    {
      "cell_type": "code",
      "metadata": {
        "id": "c8OLV1MgDJOE",
        "outputId": "13fb8a8a-8ca8-4889-9bc2-6f32bd9e5c38",
        "colab": {
          "base_uri": "https://localhost:8080/",
          "height": 35
        }
      },
      "source": [
        "print(train_df['country_code'].isna().sum())"
      ],
      "execution_count": null,
      "outputs": [
        {
          "output_type": "stream",
          "text": [
            "924805\n"
          ],
          "name": "stdout"
        }
      ]
    },
    {
      "cell_type": "code",
      "metadata": {
        "id": "905afxq0EJGE"
      },
      "source": [
        "train_df.to_csv('drive/My Drive/AI_COVID19/dataset_2.csv', index = False)"
      ],
      "execution_count": null,
      "outputs": []
    }
  ]
}